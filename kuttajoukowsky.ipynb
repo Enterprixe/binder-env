{
 "cells": [
  {
   "cell_type": "code",
   "execution_count": 1,
   "id": "de1cec5e",
   "metadata": {},
   "outputs": [
    {
     "data": {
      "application/vnd.webio.node+json": {
       "children": [],
       "instanceArgs": {
        "namespace": "html",
        "tag": "div"
       },
       "nodeType": "DOM",
       "props": {},
       "type": "node"
      },
      "text/html": [
       "<div style=\"padding: 1em; background-color: #f8d6da; border: 1px solid #f5c6cb; font-weight: bold;\">\n",
       "<p>The WebIO Jupyter extension was not detected. See the\n",
       "<a href=\"https://juliagizmos.github.io/WebIO.jl/latest/providers/ijulia/\" target=\"_blank\">\n",
       "    WebIO Jupyter integration documentation\n",
       "</a>\n",
       "for more information.\n",
       "</div>\n"
      ],
      "text/plain": [
       "WebIO._IJuliaInit()"
      ]
     },
     "metadata": {
      "application/vnd.webio.node+json": {
       "kernelId": "3e8f3696-d6a6-4b1e-8e03-de895e96b2ef"
      }
     },
     "output_type": "display_data"
    }
   ],
   "source": [
    "using Interact, Plots"
   ]
  },
  {
   "cell_type": "code",
   "execution_count": 2,
   "id": "f3b4058a",
   "metadata": {},
   "outputs": [
    {
     "data": {
      "text/plain": [
       "create_circle (generic function with 1 method)"
      ]
     },
     "execution_count": 2,
     "metadata": {},
     "output_type": "execute_result"
    }
   ],
   "source": [
    "function create_circle(r; n=100)\n",
    "    t = LinRange(0, 2π, n)\n",
    "    return @. (r * cos(t) - 0.075) + im * (r * sin(t) + 0.075)\n",
    "end"
   ]
  },
  {
   "cell_type": "code",
   "execution_count": 3,
   "id": "e74dee42",
   "metadata": {},
   "outputs": [
    {
     "data": {
      "text/plain": [
       "g (generic function with 1 method)"
      ]
     },
     "execution_count": 3,
     "metadata": {},
     "output_type": "execute_result"
    }
   ],
   "source": [
    "f(z::Complex{Float64}) = z + 1 / z\n",
    "g(f::Function, z::Complex{Float64}; α=0) = (1 - α) * z + α * f(z)"
   ]
  },
  {
   "cell_type": "code",
   "execution_count": 4,
   "id": "f2b20965",
   "metadata": {},
   "outputs": [
    {
     "data": {
      "application/vnd.webio.node+json": {
       "children": [
        {
         "children": [
          {
           "children": [
            {
             "children": [
              {
               "children": [
                {
                 "children": [
                  ""
                 ],
                 "instanceArgs": {
                  "namespace": "html",
                  "tag": "label"
                 },
                 "nodeType": "DOM",
                 "props": {
                  "className": "interact ",
                  "style": {
                   "padding": "5px 10px 0px 10px"
                  }
                 },
                 "type": "node"
                }
               ],
               "instanceArgs": {
                "namespace": "html",
                "tag": "div"
               },
               "nodeType": "DOM",
               "props": {
                "className": "interact-flex-row-left"
               },
               "type": "node"
              },
              {
               "children": [
                {
                 "children": [],
                 "instanceArgs": {
                  "namespace": "html",
                  "tag": "input"
                 },
                 "nodeType": "DOM",
                 "props": {
                  "attributes": {
                   "data-bind": "numericValue: index, valueUpdate: 'input', event: {change: function (){this.changes(this.changes()+1)}}",
                   "orient": "horizontal",
                   "type": "range"
                  },
                  "className": "slider slider is-fullwidth",
                  "max": 101,
                  "min": 1,
                  "step": 1,
                  "style": {}
                 },
                 "type": "node"
                }
               ],
               "instanceArgs": {
                "namespace": "html",
                "tag": "div"
               },
               "nodeType": "DOM",
               "props": {
                "className": "interact-flex-row-center"
               },
               "type": "node"
              },
              {
               "children": [
                {
                 "children": [],
                 "instanceArgs": {
                  "namespace": "html",
                  "tag": "p"
                 },
                 "nodeType": "DOM",
                 "props": {
                  "attributes": {
                   "data-bind": "text: formatted_val"
                  }
                 },
                 "type": "node"
                }
               ],
               "instanceArgs": {
                "namespace": "html",
                "tag": "div"
               },
               "nodeType": "DOM",
               "props": {
                "className": "interact-flex-row-right"
               },
               "type": "node"
              }
             ],
             "instanceArgs": {
              "namespace": "html",
              "tag": "div"
             },
             "nodeType": "DOM",
             "props": {
              "className": "interact-flex-row interact-widget"
             },
             "type": "node"
            }
           ],
           "instanceArgs": {
            "handlers": {
             "changes": [
              "(function (val){return (val!=this.model[\"changes\"]()) ? (this.valueFromJulia[\"changes\"]=true, this.model[\"changes\"](val)) : undefined})"
             ],
             "index": [
              "(function (val){return (val!=this.model[\"index\"]()) ? (this.valueFromJulia[\"index\"]=true, this.model[\"index\"](val)) : undefined})"
             ]
            },
            "id": "8366573390575065082",
            "imports": {
             "data": [
              {
               "name": "knockout",
               "type": "js",
               "url": "/assetserver/8cdea83dca575c449b882b4d743df8ba3f7f7f7d-knockout.js"
              },
              {
               "name": "knockout_punches",
               "type": "js",
               "url": "/assetserver/a43458a83d2a8b311c6ed0126066d2e5dcc7ec77-knockout_punches.js"
              },
              {
               "name": null,
               "type": "js",
               "url": "/assetserver/b93d977e9c019ea853c0362911fe99a35d4ccd06-all.js"
              },
              {
               "name": null,
               "type": "css",
               "url": "/assetserver/45e545ad7d49c8ce468c6c332577859733fbb4b4-style.css"
              },
              {
               "name": null,
               "type": "css",
               "url": "/assetserver/ae7b01dc38748d656290daa8cb59aed9d8407898-bulma_confined.min.css"
              }
             ],
             "type": "async_block"
            },
            "mount_callbacks": [
             "function () {\n    var handler = (function (ko, koPunches) {\n    ko.punches.enableAll();\n    ko.bindingHandlers.numericValue = {\n        init: function(element, valueAccessor, allBindings, data, context) {\n            var stringified = ko.observable(ko.unwrap(valueAccessor()));\n            stringified.subscribe(function(value) {\n                var val = parseFloat(value);\n                if (!isNaN(val)) {\n                    valueAccessor()(val);\n                }\n            });\n            valueAccessor().subscribe(function(value) {\n                var str = JSON.stringify(value);\n                if ((str == \"0\") && ([\"-0\", \"-0.\"].indexOf(stringified()) >= 0))\n                     return;\n                 if ([\"null\", \"\"].indexOf(str) >= 0)\n                     return;\n                stringified(str);\n            });\n            ko.applyBindingsToNode(\n                element,\n                {\n                    value: stringified,\n                    valueUpdate: allBindings.get('valueUpdate'),\n                },\n                context,\n            );\n        }\n    };\n    var json_data = {\"formatted_vals\":[\"0.0\",\"0.01\",\"0.02\",\"0.03\",\"0.04\",\"0.05\",\"0.06\",\"0.07\",\"0.08\",\"0.09\",\"0.1\",\"0.11\",\"0.12\",\"0.13\",\"0.14\",\"0.15\",\"0.16\",\"0.17\",\"0.18\",\"0.19\",\"0.2\",\"0.21\",\"0.22\",\"0.23\",\"0.24\",\"0.25\",\"0.26\",\"0.27\",\"0.28\",\"0.29\",\"0.3\",\"0.31\",\"0.32\",\"0.33\",\"0.34\",\"0.35\",\"0.36\",\"0.37\",\"0.38\",\"0.39\",\"0.4\",\"0.41\",\"0.42\",\"0.43\",\"0.44\",\"0.45\",\"0.46\",\"0.47\",\"0.48\",\"0.49\",\"0.5\",\"0.51\",\"0.52\",\"0.53\",\"0.54\",\"0.55\",\"0.56\",\"0.57\",\"0.58\",\"0.59\",\"0.6\",\"0.61\",\"0.62\",\"0.63\",\"0.64\",\"0.65\",\"0.66\",\"0.67\",\"0.68\",\"0.69\",\"0.7\",\"0.71\",\"0.72\",\"0.73\",\"0.74\",\"0.75\",\"0.76\",\"0.77\",\"0.78\",\"0.79\",\"0.8\",\"0.81\",\"0.82\",\"0.83\",\"0.84\",\"0.85\",\"0.86\",\"0.87\",\"0.88\",\"0.89\",\"0.9\",\"0.91\",\"0.92\",\"0.93\",\"0.94\",\"0.95\",\"0.96\",\"0.97\",\"0.98\",\"0.99\",\"1.0\"],\"changes\":WebIO.getval({\"name\":\"changes\",\"scope\":\"8366573390575065082\",\"id\":\"12964886570727546756\",\"type\":\"observable\"}),\"index\":WebIO.getval({\"name\":\"index\",\"scope\":\"8366573390575065082\",\"id\":\"6946474925219171591\",\"type\":\"observable\"})};\n    var self = this;\n    function AppViewModel() {\n        for (var key in json_data) {\n            var el = json_data[key];\n            this[key] = Array.isArray(el) ? ko.observableArray(el) : ko.observable(el);\n        }\n        \n        [this[\"formatted_val\"]=ko.computed(    function(){\n        return this.formatted_vals()[parseInt(this.index())-(1)];\n    }\n,this)]\n        [this[\"changes\"].subscribe((function (val){!(this.valueFromJulia[\"changes\"]) ? (WebIO.setval({\"name\":\"changes\",\"scope\":\"8366573390575065082\",\"id\":\"12964886570727546756\",\"type\":\"observable\"},val)) : undefined; return this.valueFromJulia[\"changes\"]=false}),self),this[\"index\"].subscribe((function (val){!(this.valueFromJulia[\"index\"]) ? (WebIO.setval({\"name\":\"index\",\"scope\":\"8366573390575065082\",\"id\":\"6946474925219171591\",\"type\":\"observable\"},val)) : undefined; return this.valueFromJulia[\"index\"]=false}),self)]\n        \n    }\n    self.model = new AppViewModel();\n    self.valueFromJulia = {};\n    for (var key in json_data) {\n        self.valueFromJulia[key] = false;\n    }\n    ko.applyBindings(self.model, self.dom);\n}\n);\n    (WebIO.importBlock({\"data\":[{\"name\":\"knockout\",\"type\":\"js\",\"url\":\"/assetserver/8cdea83dca575c449b882b4d743df8ba3f7f7f7d-knockout.js\"},{\"name\":\"knockout_punches\",\"type\":\"js\",\"url\":\"/assetserver/a43458a83d2a8b311c6ed0126066d2e5dcc7ec77-knockout_punches.js\"}],\"type\":\"async_block\"})).then((imports) => handler.apply(this, imports));\n}\n"
            ],
            "observables": {
             "changes": {
              "id": "12964886570727546756",
              "sync": false,
              "value": 0
             },
             "index": {
              "id": "6946474925219171591",
              "sync": true,
              "value": 1
             }
            },
            "systemjs_options": null
           },
           "nodeType": "Scope",
           "props": {},
           "type": "node"
          }
         ],
         "instanceArgs": {
          "namespace": "html",
          "tag": "div"
         },
         "nodeType": "DOM",
         "props": {
          "className": "field interact-widget"
         },
         "type": "node"
        },
        {
         "children": [
          {
           "children": [],
           "instanceArgs": {
            "id": "9971365325021223656",
            "name": "obs-node"
           },
           "nodeType": "ObservableNode",
           "props": {},
           "type": "node"
          }
         ],
         "instanceArgs": {
          "handlers": {},
          "id": "13094582078457719993",
          "imports": {
           "data": [],
           "type": "async_block"
          },
          "mount_callbacks": [],
          "observables": {
           "obs-node": {
            "id": "9971365325021223656",
            "sync": false,
            "value": {
             "children": [
              {
               "children": [],
               "instanceArgs": {
                "namespace": "html",
                "tag": "div"
               },
               "nodeType": "DOM",
               "props": {
                "setInnerHtml": "<?xml version=\"1.0\" encoding=\"utf-8\"?>\n<svg xmlns=\"http://www.w3.org/2000/svg\" xmlns:xlink=\"http://www.w3.org/1999/xlink\" width=\"640\" height=\"480\" viewBox=\"0 0 2560 1920\">\n<defs>\n  <clipPath id=\"clip610\">\n    <rect x=\"0\" y=\"0\" width=\"2560\" height=\"1920\"/>\n  </clipPath>\n</defs>\n<path clip-path=\"url(#clip610)\" d=\"\nM0 1920 L2560 1920 L2560 0 L0 0  Z\n  \" fill=\"#ffffff\" fill-rule=\"evenodd\" fill-opacity=\"1\"/>\n<defs>\n  <clipPath id=\"clip611\">\n    <rect x=\"512\" y=\"0\" width=\"1793\" height=\"1793\"/>\n  </clipPath>\n</defs>\n<path clip-path=\"url(#clip610)\" d=\"\nM195.536 1798.93 L2512.76 1798.93 L2512.76 47.2441 L195.536 47.2441  Z\n  \" fill=\"#ffffff\" fill-rule=\"evenodd\" fill-opacity=\"1\"/>\n<defs>\n  <clipPath id=\"clip612\">\n    <rect x=\"195\" y=\"47\" width=\"2318\" height=\"1753\"/>\n  </clipPath>\n</defs>\n<polyline clip-path=\"url(#clip612)\" style=\"stroke:#000000; stroke-linecap:butt; stroke-linejoin:round; stroke-width:2; stroke-opacity:0.1; fill:none\" points=\"\n  324.27,1798.93 324.27,47.2441 \n  \"/>\n<polyline clip-path=\"url(#clip612)\" style=\"stroke:#000000; stroke-linecap:butt; stroke-linejoin:round; stroke-width:2; stroke-opacity:0.1; fill:none\" points=\"\n  839.208,1798.93 839.208,47.2441 \n  \"/>\n<polyline clip-path=\"url(#clip612)\" style=\"stroke:#000000; stroke-linecap:butt; stroke-linejoin:round; stroke-width:2; stroke-opacity:0.1; fill:none\" points=\"\n  1354.15,1798.93 1354.15,47.2441 \n  \"/>\n<polyline clip-path=\"url(#clip612)\" style=\"stroke:#000000; stroke-linecap:butt; stroke-linejoin:round; stroke-width:2; stroke-opacity:0.1; fill:none\" points=\"\n  1869.08,1798.93 1869.08,47.2441 \n  \"/>\n<polyline clip-path=\"url(#clip612)\" style=\"stroke:#000000; stroke-linecap:butt; stroke-linejoin:round; stroke-width:2; stroke-opacity:0.1; fill:none\" points=\"\n  2384.02,1798.93 2384.02,47.2441 \n  \"/>\n<polyline clip-path=\"url(#clip610)\" style=\"stroke:#000000; stroke-linecap:butt; stroke-linejoin:round; stroke-width:4; stroke-opacity:1; fill:none\" points=\"\n  195.536,1798.93 2512.76,1798.93 \n  \"/>\n<polyline clip-path=\"url(#clip610)\" style=\"stroke:#000000; stroke-linecap:butt; stroke-linejoin:round; stroke-width:4; stroke-opacity:1; fill:none\" points=\"\n  324.27,1798.93 324.27,1780.03 \n  \"/>\n<polyline clip-path=\"url(#clip610)\" style=\"stroke:#000000; stroke-linecap:butt; stroke-linejoin:round; stroke-width:4; stroke-opacity:1; fill:none\" points=\"\n  839.208,1798.93 839.208,1780.03 \n  \"/>\n<polyline clip-path=\"url(#clip610)\" style=\"stroke:#000000; stroke-linecap:butt; stroke-linejoin:round; stroke-width:4; stroke-opacity:1; fill:none\" points=\"\n  1354.15,1798.93 1354.15,1780.03 \n  \"/>\n<polyline clip-path=\"url(#clip610)\" style=\"stroke:#000000; stroke-linecap:butt; stroke-linejoin:round; stroke-width:4; stroke-opacity:1; fill:none\" points=\"\n  1869.08,1798.93 1869.08,1780.03 \n  \"/>\n<polyline clip-path=\"url(#clip610)\" style=\"stroke:#000000; stroke-linecap:butt; stroke-linejoin:round; stroke-width:4; stroke-opacity:1; fill:none\" points=\"\n  2384.02,1798.93 2384.02,1780.03 \n  \"/>\n<path clip-path=\"url(#clip610)\" d=\"M294.213 1845.78 L323.888 1845.78 L323.888 1849.71 L294.213 1849.71 L294.213 1845.78 Z\" fill=\"#000000\" fill-rule=\"evenodd\" fill-opacity=\"1\" /><path clip-path=\"url(#clip610)\" d=\"M338.009 1858.67 L354.328 1858.67 L354.328 1862.61 L332.384 1862.61 L332.384 1858.67 Q335.046 1855.92 339.629 1851.29 Q344.236 1846.64 345.416 1845.29 Q347.662 1842.77 348.541 1841.03 Q349.444 1839.27 349.444 1837.58 Q349.444 1834.83 347.499 1833.09 Q345.578 1831.36 342.476 1831.36 Q340.277 1831.36 337.824 1832.12 Q335.393 1832.89 332.615 1834.44 L332.615 1829.71 Q335.439 1828.58 337.893 1828 Q340.347 1827.42 342.384 1827.42 Q347.754 1827.42 350.949 1830.11 Q354.143 1832.79 354.143 1837.28 Q354.143 1839.41 353.333 1841.33 Q352.546 1843.23 350.439 1845.83 Q349.861 1846.5 346.759 1849.71 Q343.657 1852.91 338.009 1858.67 Z\" fill=\"#000000\" fill-rule=\"evenodd\" fill-opacity=\"1\" /><path clip-path=\"url(#clip610)\" d=\"M808.965 1845.78 L838.641 1845.78 L838.641 1849.71 L808.965 1849.71 L808.965 1845.78 Z\" fill=\"#000000\" fill-rule=\"evenodd\" fill-opacity=\"1\" /><path clip-path=\"url(#clip610)\" d=\"M849.544 1858.67 L857.183 1858.67 L857.183 1832.31 L848.872 1833.97 L848.872 1829.71 L857.136 1828.05 L861.812 1828.05 L861.812 1858.67 L869.451 1858.67 L869.451 1862.61 L849.544 1862.61 L849.544 1858.67 Z\" fill=\"#000000\" fill-rule=\"evenodd\" fill-opacity=\"1\" /><path clip-path=\"url(#clip610)\" d=\"M1354.15 1831.13 Q1350.53 1831.13 1348.71 1834.69 Q1346.9 1838.23 1346.9 1845.36 Q1346.9 1852.47 1348.71 1856.03 Q1350.53 1859.58 1354.15 1859.58 Q1357.78 1859.58 1359.59 1856.03 Q1361.41 1852.47 1361.41 1845.36 Q1361.41 1838.23 1359.59 1834.69 Q1357.78 1831.13 1354.15 1831.13 M1354.15 1827.42 Q1359.96 1827.42 1363.01 1832.03 Q1366.09 1836.61 1366.09 1845.36 Q1366.09 1854.09 1363.01 1858.7 Q1359.96 1863.28 1354.15 1863.28 Q1348.34 1863.28 1345.26 1858.7 Q1342.2 1854.09 1342.2 1845.36 Q1342.2 1836.61 1345.26 1832.03 Q1348.34 1827.42 1354.15 1827.42 Z\" fill=\"#000000\" fill-rule=\"evenodd\" fill-opacity=\"1\" /><path clip-path=\"url(#clip610)\" d=\"M1859.47 1858.67 L1867.1 1858.67 L1867.1 1832.31 L1858.79 1833.97 L1858.79 1829.71 L1867.06 1828.05 L1871.73 1828.05 L1871.73 1858.67 L1879.37 1858.67 L1879.37 1862.61 L1859.47 1862.61 L1859.47 1858.67 Z\" fill=\"#000000\" fill-rule=\"evenodd\" fill-opacity=\"1\" /><path clip-path=\"url(#clip610)\" d=\"M2378.67 1858.67 L2394.99 1858.67 L2394.99 1862.61 L2373.05 1862.61 L2373.05 1858.67 Q2375.71 1855.92 2380.29 1851.29 Q2384.9 1846.64 2386.08 1845.29 Q2388.33 1842.77 2389.21 1841.03 Q2390.11 1839.27 2390.11 1837.58 Q2390.11 1834.83 2388.16 1833.09 Q2386.24 1831.36 2383.14 1831.36 Q2380.94 1831.36 2378.49 1832.12 Q2376.06 1832.89 2373.28 1834.44 L2373.28 1829.71 Q2376.1 1828.58 2378.56 1828 Q2381.01 1827.42 2383.05 1827.42 Q2388.42 1827.42 2391.61 1830.11 Q2394.81 1832.79 2394.81 1837.28 Q2394.81 1839.41 2394 1841.33 Q2393.21 1843.23 2391.1 1845.83 Q2390.53 1846.5 2387.42 1849.71 Q2384.32 1852.91 2378.67 1858.67 Z\" fill=\"#000000\" fill-rule=\"evenodd\" fill-opacity=\"1\" /><polyline clip-path=\"url(#clip612)\" style=\"stroke:#000000; stroke-linecap:butt; stroke-linejoin:round; stroke-width:2; stroke-opacity:0.1; fill:none\" points=\"\n  195.536,1705.09 2512.76,1705.09 \n  \"/>\n<polyline clip-path=\"url(#clip612)\" style=\"stroke:#000000; stroke-linecap:butt; stroke-linejoin:round; stroke-width:2; stroke-opacity:0.1; fill:none\" points=\"\n  195.536,1444.42 2512.76,1444.42 \n  \"/>\n<polyline clip-path=\"url(#clip612)\" style=\"stroke:#000000; stroke-linecap:butt; stroke-linejoin:round; stroke-width:2; stroke-opacity:0.1; fill:none\" points=\"\n  195.536,1183.75 2512.76,1183.75 \n  \"/>\n<polyline clip-path=\"url(#clip612)\" style=\"stroke:#000000; stroke-linecap:butt; stroke-linejoin:round; stroke-width:2; stroke-opacity:0.1; fill:none\" points=\"\n  195.536,923.086 2512.76,923.086 \n  \"/>\n<polyline clip-path=\"url(#clip612)\" style=\"stroke:#000000; stroke-linecap:butt; stroke-linejoin:round; stroke-width:2; stroke-opacity:0.1; fill:none\" points=\"\n  195.536,662.419 2512.76,662.419 \n  \"/>\n<polyline clip-path=\"url(#clip612)\" style=\"stroke:#000000; stroke-linecap:butt; stroke-linejoin:round; stroke-width:2; stroke-opacity:0.1; fill:none\" points=\"\n  195.536,401.752 2512.76,401.752 \n  \"/>\n<polyline clip-path=\"url(#clip612)\" style=\"stroke:#000000; stroke-linecap:butt; stroke-linejoin:round; stroke-width:2; stroke-opacity:0.1; fill:none\" points=\"\n  195.536,141.084 2512.76,141.084 \n  \"/>\n<polyline clip-path=\"url(#clip610)\" style=\"stroke:#000000; stroke-linecap:butt; stroke-linejoin:round; stroke-width:4; stroke-opacity:1; fill:none\" points=\"\n  195.536,1798.93 195.536,47.2441 \n  \"/>\n<polyline clip-path=\"url(#clip610)\" style=\"stroke:#000000; stroke-linecap:butt; stroke-linejoin:round; stroke-width:4; stroke-opacity:1; fill:none\" points=\"\n  195.536,1705.09 214.434,1705.09 \n  \"/>\n<polyline clip-path=\"url(#clip610)\" style=\"stroke:#000000; stroke-linecap:butt; stroke-linejoin:round; stroke-width:4; stroke-opacity:1; fill:none\" points=\"\n  195.536,1444.42 214.434,1444.42 \n  \"/>\n<polyline clip-path=\"url(#clip610)\" style=\"stroke:#000000; stroke-linecap:butt; stroke-linejoin:round; stroke-width:4; stroke-opacity:1; fill:none\" points=\"\n  195.536,1183.75 214.434,1183.75 \n  \"/>\n<polyline clip-path=\"url(#clip610)\" style=\"stroke:#000000; stroke-linecap:butt; stroke-linejoin:round; stroke-width:4; stroke-opacity:1; fill:none\" points=\"\n  195.536,923.086 214.434,923.086 \n  \"/>\n<polyline clip-path=\"url(#clip610)\" style=\"stroke:#000000; stroke-linecap:butt; stroke-linejoin:round; stroke-width:4; stroke-opacity:1; fill:none\" points=\"\n  195.536,662.419 214.434,662.419 \n  \"/>\n<polyline clip-path=\"url(#clip610)\" style=\"stroke:#000000; stroke-linecap:butt; stroke-linejoin:round; stroke-width:4; stroke-opacity:1; fill:none\" points=\"\n  195.536,401.752 214.434,401.752 \n  \"/>\n<polyline clip-path=\"url(#clip610)\" style=\"stroke:#000000; stroke-linecap:butt; stroke-linejoin:round; stroke-width:4; stroke-opacity:1; fill:none\" points=\"\n  195.536,141.084 214.434,141.084 \n  \"/>\n<path clip-path=\"url(#clip610)\" d=\"M51.1875 1705.54 L80.8633 1705.54 L80.8633 1709.47 L51.1875 1709.47 L51.1875 1705.54 Z\" fill=\"#000000\" fill-rule=\"evenodd\" fill-opacity=\"1\" /><path clip-path=\"url(#clip610)\" d=\"M91.766 1718.43 L99.4048 1718.43 L99.4048 1692.07 L91.0947 1693.73 L91.0947 1689.47 L99.3585 1687.81 L104.034 1687.81 L104.034 1718.43 L111.673 1718.43 L111.673 1722.37 L91.766 1722.37 L91.766 1718.43 Z\" fill=\"#000000\" fill-rule=\"evenodd\" fill-opacity=\"1\" /><path clip-path=\"url(#clip610)\" d=\"M121.118 1716.49 L126.002 1716.49 L126.002 1722.37 L121.118 1722.37 L121.118 1716.49 Z\" fill=\"#000000\" fill-rule=\"evenodd\" fill-opacity=\"1\" /><path clip-path=\"url(#clip610)\" d=\"M136.233 1687.81 L154.59 1687.81 L154.59 1691.74 L140.516 1691.74 L140.516 1700.22 Q141.534 1699.87 142.553 1699.71 Q143.571 1699.52 144.59 1699.52 Q150.377 1699.52 153.756 1702.69 Q157.136 1705.86 157.136 1711.28 Q157.136 1716.86 153.664 1719.96 Q150.192 1723.04 143.872 1723.04 Q141.696 1723.04 139.428 1722.67 Q137.182 1722.3 134.775 1721.56 L134.775 1716.86 Q136.858 1717.99 139.081 1718.55 Q141.303 1719.1 143.78 1719.1 Q147.784 1719.1 150.122 1717 Q152.46 1714.89 152.46 1711.28 Q152.46 1707.67 150.122 1705.56 Q147.784 1703.46 143.78 1703.46 Q141.905 1703.46 140.03 1703.87 Q138.178 1704.29 136.233 1705.17 L136.233 1687.81 Z\" fill=\"#000000\" fill-rule=\"evenodd\" fill-opacity=\"1\" /><path clip-path=\"url(#clip610)\" d=\"M50.1921 1444.87 L79.8679 1444.87 L79.8679 1448.81 L50.1921 1448.81 L50.1921 1444.87 Z\" fill=\"#000000\" fill-rule=\"evenodd\" fill-opacity=\"1\" /><path clip-path=\"url(#clip610)\" d=\"M90.7706 1457.77 L98.4095 1457.77 L98.4095 1431.4 L90.0993 1433.07 L90.0993 1428.81 L98.3632 1427.14 L103.039 1427.14 L103.039 1457.77 L110.678 1457.77 L110.678 1461.7 L90.7706 1461.7 L90.7706 1457.77 Z\" fill=\"#000000\" fill-rule=\"evenodd\" fill-opacity=\"1\" /><path clip-path=\"url(#clip610)\" d=\"M120.122 1455.82 L125.007 1455.82 L125.007 1461.7 L120.122 1461.7 L120.122 1455.82 Z\" fill=\"#000000\" fill-rule=\"evenodd\" fill-opacity=\"1\" /><path clip-path=\"url(#clip610)\" d=\"M145.192 1430.22 Q141.581 1430.22 139.752 1433.78 Q137.946 1437.33 137.946 1444.46 Q137.946 1451.56 139.752 1455.13 Q141.581 1458.67 145.192 1458.67 Q148.826 1458.67 150.631 1455.13 Q152.46 1451.56 152.46 1444.46 Q152.46 1437.33 150.631 1433.78 Q148.826 1430.22 145.192 1430.22 M145.192 1426.52 Q151.002 1426.52 154.057 1431.12 Q157.136 1435.71 157.136 1444.46 Q157.136 1453.18 154.057 1457.79 Q151.002 1462.37 145.192 1462.37 Q139.381 1462.37 136.303 1457.79 Q133.247 1453.18 133.247 1444.46 Q133.247 1435.71 136.303 1431.12 Q139.381 1426.52 145.192 1426.52 Z\" fill=\"#000000\" fill-rule=\"evenodd\" fill-opacity=\"1\" /><path clip-path=\"url(#clip610)\" d=\"M51.1875 1184.2 L80.8633 1184.2 L80.8633 1188.14 L51.1875 1188.14 L51.1875 1184.2 Z\" fill=\"#000000\" fill-rule=\"evenodd\" fill-opacity=\"1\" /><path clip-path=\"url(#clip610)\" d=\"M100.956 1169.55 Q97.3447 1169.55 95.516 1173.12 Q93.7104 1176.66 93.7104 1183.79 Q93.7104 1190.89 95.516 1194.46 Q97.3447 1198 100.956 1198 Q104.59 1198 106.396 1194.46 Q108.224 1190.89 108.224 1183.79 Q108.224 1176.66 106.396 1173.12 Q104.59 1169.55 100.956 1169.55 M100.956 1165.85 Q106.766 1165.85 109.821 1170.45 Q112.9 1175.04 112.9 1183.79 Q112.9 1192.51 109.821 1197.12 Q106.766 1201.7 100.956 1201.7 Q95.1456 1201.7 92.0669 1197.12 Q89.0114 1192.51 89.0114 1183.79 Q89.0114 1175.04 92.0669 1170.45 Q95.1456 1165.85 100.956 1165.85 Z\" fill=\"#000000\" fill-rule=\"evenodd\" fill-opacity=\"1\" /><path clip-path=\"url(#clip610)\" d=\"M121.118 1195.15 L126.002 1195.15 L126.002 1201.03 L121.118 1201.03 L121.118 1195.15 Z\" fill=\"#000000\" fill-rule=\"evenodd\" fill-opacity=\"1\" /><path clip-path=\"url(#clip610)\" d=\"M136.233 1166.47 L154.59 1166.47 L154.59 1170.41 L140.516 1170.41 L140.516 1178.88 Q141.534 1178.53 142.553 1178.37 Q143.571 1178.19 144.59 1178.19 Q150.377 1178.19 153.756 1181.36 Q157.136 1184.53 157.136 1189.95 Q157.136 1195.52 153.664 1198.63 Q150.192 1201.7 143.872 1201.7 Q141.696 1201.7 139.428 1201.33 Q137.182 1200.96 134.775 1200.22 L134.775 1195.52 Q136.858 1196.66 139.081 1197.21 Q141.303 1197.77 143.78 1197.77 Q147.784 1197.77 150.122 1195.66 Q152.46 1193.56 152.46 1189.95 Q152.46 1186.33 150.122 1184.23 Q147.784 1182.12 143.78 1182.12 Q141.905 1182.12 140.03 1182.54 Q138.178 1182.95 136.233 1183.83 L136.233 1166.47 Z\" fill=\"#000000\" fill-rule=\"evenodd\" fill-opacity=\"1\" /><path clip-path=\"url(#clip610)\" d=\"M99.9604 908.885 Q96.3493 908.885 94.5206 912.449 Q92.715 915.991 92.715 923.121 Q92.715 930.227 94.5206 933.792 Q96.3493 937.334 99.9604 937.334 Q103.595 937.334 105.4 933.792 Q107.229 930.227 107.229 923.121 Q107.229 915.991 105.4 912.449 Q103.595 908.885 99.9604 908.885 M99.9604 905.181 Q105.771 905.181 108.826 909.787 Q111.905 914.371 111.905 923.121 Q111.905 931.848 108.826 936.454 Q105.771 941.037 99.9604 941.037 Q94.1502 941.037 91.0715 936.454 Q88.016 931.848 88.016 923.121 Q88.016 914.371 91.0715 909.787 Q94.1502 905.181 99.9604 905.181 Z\" fill=\"#000000\" fill-rule=\"evenodd\" fill-opacity=\"1\" /><path clip-path=\"url(#clip610)\" d=\"M120.122 934.486 L125.007 934.486 L125.007 940.366 L120.122 940.366 L120.122 934.486 Z\" fill=\"#000000\" fill-rule=\"evenodd\" fill-opacity=\"1\" /><path clip-path=\"url(#clip610)\" d=\"M145.192 908.885 Q141.581 908.885 139.752 912.449 Q137.946 915.991 137.946 923.121 Q137.946 930.227 139.752 933.792 Q141.581 937.334 145.192 937.334 Q148.826 937.334 150.631 933.792 Q152.46 930.227 152.46 923.121 Q152.46 915.991 150.631 912.449 Q148.826 908.885 145.192 908.885 M145.192 905.181 Q151.002 905.181 154.057 909.787 Q157.136 914.371 157.136 923.121 Q157.136 931.848 154.057 936.454 Q151.002 941.037 145.192 941.037 Q139.381 941.037 136.303 936.454 Q133.247 931.848 133.247 923.121 Q133.247 914.371 136.303 909.787 Q139.381 905.181 145.192 905.181 Z\" fill=\"#000000\" fill-rule=\"evenodd\" fill-opacity=\"1\" /><path clip-path=\"url(#clip610)\" d=\"M100.956 648.217 Q97.3447 648.217 95.516 651.782 Q93.7104 655.324 93.7104 662.453 Q93.7104 669.56 95.516 673.125 Q97.3447 676.666 100.956 676.666 Q104.59 676.666 106.396 673.125 Q108.224 669.56 108.224 662.453 Q108.224 655.324 106.396 651.782 Q104.59 648.217 100.956 648.217 M100.956 644.514 Q106.766 644.514 109.821 649.12 Q112.9 653.704 112.9 662.453 Q112.9 671.18 109.821 675.787 Q106.766 680.37 100.956 680.37 Q95.1456 680.37 92.0669 675.787 Q89.0114 671.18 89.0114 662.453 Q89.0114 653.704 92.0669 649.12 Q95.1456 644.514 100.956 644.514 Z\" fill=\"#000000\" fill-rule=\"evenodd\" fill-opacity=\"1\" /><path clip-path=\"url(#clip610)\" d=\"M121.118 673.819 L126.002 673.819 L126.002 679.699 L121.118 679.699 L121.118 673.819 Z\" fill=\"#000000\" fill-rule=\"evenodd\" fill-opacity=\"1\" /><path clip-path=\"url(#clip610)\" d=\"M136.233 645.139 L154.59 645.139 L154.59 649.074 L140.516 649.074 L140.516 657.546 Q141.534 657.199 142.553 657.037 Q143.571 656.852 144.59 656.852 Q150.377 656.852 153.756 660.023 Q157.136 663.194 157.136 668.611 Q157.136 674.19 153.664 677.291 Q150.192 680.37 143.872 680.37 Q141.696 680.37 139.428 680 Q137.182 679.629 134.775 678.889 L134.775 674.19 Q136.858 675.324 139.081 675.879 Q141.303 676.435 143.78 676.435 Q147.784 676.435 150.122 674.328 Q152.46 672.222 152.46 668.611 Q152.46 665 150.122 662.893 Q147.784 660.787 143.78 660.787 Q141.905 660.787 140.03 661.203 Q138.178 661.62 136.233 662.5 L136.233 645.139 Z\" fill=\"#000000\" fill-rule=\"evenodd\" fill-opacity=\"1\" /><path clip-path=\"url(#clip610)\" d=\"M90.7706 415.096 L98.4095 415.096 L98.4095 388.731 L90.0993 390.397 L90.0993 386.138 L98.3632 384.472 L103.039 384.472 L103.039 415.096 L110.678 415.096 L110.678 419.032 L90.7706 419.032 L90.7706 415.096 Z\" fill=\"#000000\" fill-rule=\"evenodd\" fill-opacity=\"1\" /><path clip-path=\"url(#clip610)\" d=\"M120.122 413.152 L125.007 413.152 L125.007 419.032 L120.122 419.032 L120.122 413.152 Z\" fill=\"#000000\" fill-rule=\"evenodd\" fill-opacity=\"1\" /><path clip-path=\"url(#clip610)\" d=\"M145.192 387.55 Q141.581 387.55 139.752 391.115 Q137.946 394.657 137.946 401.786 Q137.946 408.893 139.752 412.457 Q141.581 415.999 145.192 415.999 Q148.826 415.999 150.631 412.457 Q152.46 408.893 152.46 401.786 Q152.46 394.657 150.631 391.115 Q148.826 387.55 145.192 387.55 M145.192 383.847 Q151.002 383.847 154.057 388.453 Q157.136 393.036 157.136 401.786 Q157.136 410.513 154.057 415.12 Q151.002 419.703 145.192 419.703 Q139.381 419.703 136.303 415.12 Q133.247 410.513 133.247 401.786 Q133.247 393.036 136.303 388.453 Q139.381 383.847 145.192 383.847 Z\" fill=\"#000000\" fill-rule=\"evenodd\" fill-opacity=\"1\" /><path clip-path=\"url(#clip610)\" d=\"M91.766 154.429 L99.4048 154.429 L99.4048 128.064 L91.0947 129.73 L91.0947 125.471 L99.3585 123.804 L104.034 123.804 L104.034 154.429 L111.673 154.429 L111.673 158.364 L91.766 158.364 L91.766 154.429 Z\" fill=\"#000000\" fill-rule=\"evenodd\" fill-opacity=\"1\" /><path clip-path=\"url(#clip610)\" d=\"M121.118 152.485 L126.002 152.485 L126.002 158.364 L121.118 158.364 L121.118 152.485 Z\" fill=\"#000000\" fill-rule=\"evenodd\" fill-opacity=\"1\" /><path clip-path=\"url(#clip610)\" d=\"M136.233 123.804 L154.59 123.804 L154.59 127.739 L140.516 127.739 L140.516 136.212 Q141.534 135.864 142.553 135.702 Q143.571 135.517 144.59 135.517 Q150.377 135.517 153.756 138.688 Q157.136 141.86 157.136 147.276 Q157.136 152.855 153.664 155.957 Q150.192 159.036 143.872 159.036 Q141.696 159.036 139.428 158.665 Q137.182 158.295 134.775 157.554 L134.775 152.855 Q136.858 153.989 139.081 154.545 Q141.303 155.1 143.78 155.1 Q147.784 155.1 150.122 152.994 Q152.46 150.887 152.46 147.276 Q152.46 143.665 150.122 141.559 Q147.784 139.452 143.78 139.452 Q141.905 139.452 140.03 139.869 Q138.178 140.286 136.233 141.165 L136.233 123.804 Z\" fill=\"#000000\" fill-rule=\"evenodd\" fill-opacity=\"1\" /><polyline clip-path=\"url(#clip612)\" style=\"stroke:#000000; stroke-linecap:butt; stroke-linejoin:round; stroke-width:8; stroke-opacity:1; fill:none\" points=\"\n  1871.66,883.986 1870.54,848.276 1867.18,812.709 1861.61,777.43 1853.83,742.579 1843.89,708.298 1831.82,674.725 1817.67,641.994 1801.5,610.237 1783.37,579.583 \n  1763.36,550.154 1741.55,522.07 1718.02,495.443 1692.87,470.38 1666.2,446.983 1638.11,425.346 1608.73,405.555 1578.17,387.691 1546.55,371.826 1514,358.022 \n  1480.65,346.337 1446.64,336.816 1412.1,329.499 1377.17,324.414 1341.99,321.582 1306.7,321.016 1271.45,322.716 1236.38,326.676 1201.63,332.88 1167.33,341.303 \n  1133.63,351.911 1100.67,364.662 1068.57,379.504 1037.46,396.378 1007.47,415.215 978.726,435.939 951.336,458.468 925.412,482.71 901.06,508.567 878.376,535.937 \n  857.452,564.708 838.373,594.764 821.215,625.985 806.048,658.245 792.932,691.414 781.92,725.359 773.057,759.942 766.378,795.025 761.911,830.465 759.673,866.122 \n  759.673,901.85 761.911,937.506 766.378,972.947 773.057,1008.03 781.92,1042.61 792.932,1076.56 806.048,1109.73 821.215,1141.99 838.373,1173.21 857.452,1203.26 \n  878.376,1232.03 901.06,1259.4 925.412,1285.26 951.336,1309.5 978.726,1332.03 1007.47,1352.76 1037.46,1371.59 1068.57,1388.47 1100.67,1403.31 1133.63,1416.06 \n  1167.33,1426.67 1201.63,1435.09 1236.38,1441.3 1271.45,1445.26 1306.7,1446.96 1341.99,1446.39 1377.17,1443.56 1412.1,1438.47 1446.64,1431.16 1480.65,1421.64 \n  1514,1409.95 1546.55,1396.15 1578.17,1380.28 1608.73,1362.42 1638.11,1342.63 1666.2,1320.99 1692.87,1297.59 1718.02,1272.53 1741.55,1245.9 1763.36,1217.82 \n  1783.37,1188.39 1801.5,1157.73 1817.67,1125.98 1831.82,1093.25 1843.89,1059.67 1853.83,1025.39 1861.61,990.542 1867.18,955.263 1870.54,919.696 1871.66,883.986 \n  \n  \"/>\n<path clip-path=\"url(#clip610)\" d=\"\nM2125.62 209.314 L2435.52 209.314 L2435.52 105.634 L2125.62 105.634  Z\n  \" fill=\"#ffffff\" fill-rule=\"evenodd\" fill-opacity=\"1\"/>\n<polyline clip-path=\"url(#clip610)\" style=\"stroke:#000000; stroke-linecap:butt; stroke-linejoin:round; stroke-width:4; stroke-opacity:1; fill:none\" points=\"\n  2125.62,209.314 2435.52,209.314 2435.52,105.634 2125.62,105.634 2125.62,209.314 \n  \"/>\n<polyline clip-path=\"url(#clip610)\" style=\"stroke:#000000; stroke-linecap:butt; stroke-linejoin:round; stroke-width:4; stroke-opacity:1; fill:none\" points=\"\n  2151.36,157.474 2305.84,157.474 \n  \"/>\n<path clip-path=\"url(#clip610)\" d=\"M2345.43 177.161 Q2343.63 181.791 2341.92 183.203 Q2340.2 184.615 2337.33 184.615 L2333.93 184.615 L2333.93 181.05 L2336.43 181.05 Q2338.19 181.05 2339.16 180.216 Q2340.13 179.383 2341.31 176.281 L2342.08 174.337 L2331.59 148.828 L2336.11 148.828 L2344.21 169.105 L2352.31 148.828 L2356.82 148.828 L2345.43 177.161 Z\" fill=\"#000000\" fill-rule=\"evenodd\" fill-opacity=\"1\" /><path clip-path=\"url(#clip610)\" d=\"M2364.11 170.818 L2371.75 170.818 L2371.75 144.453 L2363.44 146.119 L2363.44 141.86 L2371.71 140.194 L2376.38 140.194 L2376.38 170.818 L2384.02 170.818 L2384.02 174.754 L2364.11 174.754 L2364.11 170.818 Z\" fill=\"#000000\" fill-rule=\"evenodd\" fill-opacity=\"1\" /></svg>\n"
               },
               "type": "node"
              }
             ],
             "instanceArgs": {
              "namespace": "html",
              "tag": "div"
             },
             "nodeType": "DOM",
             "props": {
              "className": "interact-flex-row interact-widget"
             },
             "type": "node"
            }
           }
          },
          "systemjs_options": null
         },
         "nodeType": "Scope",
         "props": {},
         "type": "node"
        }
       ],
       "instanceArgs": {
        "namespace": "html",
        "tag": "div"
       },
       "nodeType": "DOM",
       "props": {},
       "type": "node"
      },
      "text/html": [
       "<div\n",
       "    class=\"webio-mountpoint\"\n",
       "    data-webio-mountpoint=\"7708502091659870176\"\n",
       ">\n",
       "    <script>\n",
       "    (function(){\n",
       "    // Some integrations (namely, IJulia/Jupyter) use an alternate render pathway than\n",
       "    // just putting the html on the page. If WebIO isn't defined, then it's pretty likely\n",
       "    // that we're in one of those situations and the integration just isn't installed\n",
       "    // correctly.\n",
       "    if (typeof window.WebIO === \"undefined\") {\n",
       "        document\n",
       "            .querySelector('[data-webio-mountpoint=\"7708502091659870176\"]')\n",
       "            .innerHTML = (\n",
       "                '<div style=\"padding: 1em; background-color: #f8d6da; border: 1px solid #f5c6cb; font-weight: bold;\">' +\n",
       "                '<p><strong>WebIO not detected.</strong></p>' +\n",
       "                '<p>Please read ' +\n",
       "                '<a href=\"https://juliagizmos.github.io/WebIO.jl/latest/troubleshooting/not-detected/\" target=\"_blank\">the troubleshooting guide</a> ' +\n",
       "                'for more information on how to resolve this issue.</p>' +\n",
       "                '<p><a href=\"https://juliagizmos.github.io/WebIO.jl/latest/troubleshooting/not-detected/\" target=\"_blank\">https://juliagizmos.github.io/WebIO.jl/latest/troubleshooting/not-detected/</a></p>' +\n",
       "                '</div>'\n",
       "            );\n",
       "        return;\n",
       "    }\n",
       "    WebIO.mount(\n",
       "        document.querySelector('[data-webio-mountpoint=\"7708502091659870176\"]'),\n",
       "        {\"props\":{},\"nodeType\":\"DOM\",\"type\":\"node\",\"instanceArgs\":{\"namespace\":\"html\",\"tag\":\"div\"},\"children\":[{\"props\":{\"className\":\"field interact-widget\"},\"nodeType\":\"DOM\",\"type\":\"node\",\"instanceArgs\":{\"namespace\":\"html\",\"tag\":\"div\"},\"children\":[{\"props\":{},\"nodeType\":\"Scope\",\"type\":\"node\",\"instanceArgs\":{\"imports\":{\"data\":[{\"name\":\"knockout\",\"type\":\"js\",\"url\":\"\\/assetserver\\/8cdea83dca575c449b882b4d743df8ba3f7f7f7d-knockout.js\"},{\"name\":\"knockout_punches\",\"type\":\"js\",\"url\":\"\\/assetserver\\/a43458a83d2a8b311c6ed0126066d2e5dcc7ec77-knockout_punches.js\"},{\"name\":null,\"type\":\"js\",\"url\":\"\\/assetserver\\/b93d977e9c019ea853c0362911fe99a35d4ccd06-all.js\"},{\"name\":null,\"type\":\"css\",\"url\":\"\\/assetserver\\/45e545ad7d49c8ce468c6c332577859733fbb4b4-style.css\"},{\"name\":null,\"type\":\"css\",\"url\":\"\\/assetserver\\/ae7b01dc38748d656290daa8cb59aed9d8407898-bulma_confined.min.css\"}],\"type\":\"async_block\"},\"id\":\"8366573390575065082\",\"handlers\":{\"changes\":[\"(function (val){return (val!=this.model[\\\"changes\\\"]()) ? (this.valueFromJulia[\\\"changes\\\"]=true, this.model[\\\"changes\\\"](val)) : undefined})\"],\"index\":[\"(function (val){return (val!=this.model[\\\"index\\\"]()) ? (this.valueFromJulia[\\\"index\\\"]=true, this.model[\\\"index\\\"](val)) : undefined})\"]},\"systemjs_options\":null,\"mount_callbacks\":[\"function () {\\n    var handler = (function (ko, koPunches) {\\n    ko.punches.enableAll();\\n    ko.bindingHandlers.numericValue = {\\n        init: function(element, valueAccessor, allBindings, data, context) {\\n            var stringified = ko.observable(ko.unwrap(valueAccessor()));\\n            stringified.subscribe(function(value) {\\n                var val = parseFloat(value);\\n                if (!isNaN(val)) {\\n                    valueAccessor()(val);\\n                }\\n            });\\n            valueAccessor().subscribe(function(value) {\\n                var str = JSON.stringify(value);\\n                if ((str == \\\"0\\\") && ([\\\"-0\\\", \\\"-0.\\\"].indexOf(stringified()) >= 0))\\n                     return;\\n                 if ([\\\"null\\\", \\\"\\\"].indexOf(str) >= 0)\\n                     return;\\n                stringified(str);\\n            });\\n            ko.applyBindingsToNode(\\n                element,\\n                {\\n                    value: stringified,\\n                    valueUpdate: allBindings.get('valueUpdate'),\\n                },\\n                context,\\n            );\\n        }\\n    };\\n    var json_data = {\\\"formatted_vals\\\":[\\\"0.0\\\",\\\"0.01\\\",\\\"0.02\\\",\\\"0.03\\\",\\\"0.04\\\",\\\"0.05\\\",\\\"0.06\\\",\\\"0.07\\\",\\\"0.08\\\",\\\"0.09\\\",\\\"0.1\\\",\\\"0.11\\\",\\\"0.12\\\",\\\"0.13\\\",\\\"0.14\\\",\\\"0.15\\\",\\\"0.16\\\",\\\"0.17\\\",\\\"0.18\\\",\\\"0.19\\\",\\\"0.2\\\",\\\"0.21\\\",\\\"0.22\\\",\\\"0.23\\\",\\\"0.24\\\",\\\"0.25\\\",\\\"0.26\\\",\\\"0.27\\\",\\\"0.28\\\",\\\"0.29\\\",\\\"0.3\\\",\\\"0.31\\\",\\\"0.32\\\",\\\"0.33\\\",\\\"0.34\\\",\\\"0.35\\\",\\\"0.36\\\",\\\"0.37\\\",\\\"0.38\\\",\\\"0.39\\\",\\\"0.4\\\",\\\"0.41\\\",\\\"0.42\\\",\\\"0.43\\\",\\\"0.44\\\",\\\"0.45\\\",\\\"0.46\\\",\\\"0.47\\\",\\\"0.48\\\",\\\"0.49\\\",\\\"0.5\\\",\\\"0.51\\\",\\\"0.52\\\",\\\"0.53\\\",\\\"0.54\\\",\\\"0.55\\\",\\\"0.56\\\",\\\"0.57\\\",\\\"0.58\\\",\\\"0.59\\\",\\\"0.6\\\",\\\"0.61\\\",\\\"0.62\\\",\\\"0.63\\\",\\\"0.64\\\",\\\"0.65\\\",\\\"0.66\\\",\\\"0.67\\\",\\\"0.68\\\",\\\"0.69\\\",\\\"0.7\\\",\\\"0.71\\\",\\\"0.72\\\",\\\"0.73\\\",\\\"0.74\\\",\\\"0.75\\\",\\\"0.76\\\",\\\"0.77\\\",\\\"0.78\\\",\\\"0.79\\\",\\\"0.8\\\",\\\"0.81\\\",\\\"0.82\\\",\\\"0.83\\\",\\\"0.84\\\",\\\"0.85\\\",\\\"0.86\\\",\\\"0.87\\\",\\\"0.88\\\",\\\"0.89\\\",\\\"0.9\\\",\\\"0.91\\\",\\\"0.92\\\",\\\"0.93\\\",\\\"0.94\\\",\\\"0.95\\\",\\\"0.96\\\",\\\"0.97\\\",\\\"0.98\\\",\\\"0.99\\\",\\\"1.0\\\"],\\\"changes\\\":WebIO.getval({\\\"name\\\":\\\"changes\\\",\\\"scope\\\":\\\"8366573390575065082\\\",\\\"id\\\":\\\"12964886570727546756\\\",\\\"type\\\":\\\"observable\\\"}),\\\"index\\\":WebIO.getval({\\\"name\\\":\\\"index\\\",\\\"scope\\\":\\\"8366573390575065082\\\",\\\"id\\\":\\\"6946474925219171591\\\",\\\"type\\\":\\\"observable\\\"})};\\n    var self = this;\\n    function AppViewModel() {\\n        for (var key in json_data) {\\n            var el = json_data[key];\\n            this[key] = Array.isArray(el) ? ko.observableArray(el) : ko.observable(el);\\n        }\\n        \\n        [this[\\\"formatted_val\\\"]=ko.computed(    function(){\\n        return this.formatted_vals()[parseInt(this.index())-(1)];\\n    }\\n,this)]\\n        [this[\\\"changes\\\"].subscribe((function (val){!(this.valueFromJulia[\\\"changes\\\"]) ? (WebIO.setval({\\\"name\\\":\\\"changes\\\",\\\"scope\\\":\\\"8366573390575065082\\\",\\\"id\\\":\\\"12964886570727546756\\\",\\\"type\\\":\\\"observable\\\"},val)) : undefined; return this.valueFromJulia[\\\"changes\\\"]=false}),self),this[\\\"index\\\"].subscribe((function (val){!(this.valueFromJulia[\\\"index\\\"]) ? (WebIO.setval({\\\"name\\\":\\\"index\\\",\\\"scope\\\":\\\"8366573390575065082\\\",\\\"id\\\":\\\"6946474925219171591\\\",\\\"type\\\":\\\"observable\\\"},val)) : undefined; return this.valueFromJulia[\\\"index\\\"]=false}),self)]\\n        \\n    }\\n    self.model = new AppViewModel();\\n    self.valueFromJulia = {};\\n    for (var key in json_data) {\\n        self.valueFromJulia[key] = false;\\n    }\\n    ko.applyBindings(self.model, self.dom);\\n}\\n);\\n    (WebIO.importBlock({\\\"data\\\":[{\\\"name\\\":\\\"knockout\\\",\\\"type\\\":\\\"js\\\",\\\"url\\\":\\\"\\/assetserver\\/8cdea83dca575c449b882b4d743df8ba3f7f7f7d-knockout.js\\\"},{\\\"name\\\":\\\"knockout_punches\\\",\\\"type\\\":\\\"js\\\",\\\"url\\\":\\\"\\/assetserver\\/a43458a83d2a8b311c6ed0126066d2e5dcc7ec77-knockout_punches.js\\\"}],\\\"type\\\":\\\"async_block\\\"})).then((imports) => handler.apply(this, imports));\\n}\\n\"],\"observables\":{\"changes\":{\"sync\":false,\"id\":\"12964886570727546756\",\"value\":0},\"index\":{\"sync\":true,\"id\":\"6946474925219171591\",\"value\":1}}},\"children\":[{\"props\":{\"className\":\"interact-flex-row interact-widget\"},\"nodeType\":\"DOM\",\"type\":\"node\",\"instanceArgs\":{\"namespace\":\"html\",\"tag\":\"div\"},\"children\":[{\"props\":{\"className\":\"interact-flex-row-left\"},\"nodeType\":\"DOM\",\"type\":\"node\",\"instanceArgs\":{\"namespace\":\"html\",\"tag\":\"div\"},\"children\":[{\"props\":{\"className\":\"interact \",\"style\":{\"padding\":\"5px 10px 0px 10px\"}},\"nodeType\":\"DOM\",\"type\":\"node\",\"instanceArgs\":{\"namespace\":\"html\",\"tag\":\"label\"},\"children\":[\"\"]}]},{\"props\":{\"className\":\"interact-flex-row-center\"},\"nodeType\":\"DOM\",\"type\":\"node\",\"instanceArgs\":{\"namespace\":\"html\",\"tag\":\"div\"},\"children\":[{\"props\":{\"max\":101,\"min\":1,\"attributes\":{\"type\":\"range\",\"data-bind\":\"numericValue: index, valueUpdate: 'input', event: {change: function (){this.changes(this.changes()+1)}}\",\"orient\":\"horizontal\"},\"step\":1,\"className\":\"slider slider is-fullwidth\",\"style\":{}},\"nodeType\":\"DOM\",\"type\":\"node\",\"instanceArgs\":{\"namespace\":\"html\",\"tag\":\"input\"},\"children\":[]}]},{\"props\":{\"className\":\"interact-flex-row-right\"},\"nodeType\":\"DOM\",\"type\":\"node\",\"instanceArgs\":{\"namespace\":\"html\",\"tag\":\"div\"},\"children\":[{\"props\":{\"attributes\":{\"data-bind\":\"text: formatted_val\"}},\"nodeType\":\"DOM\",\"type\":\"node\",\"instanceArgs\":{\"namespace\":\"html\",\"tag\":\"p\"},\"children\":[]}]}]}]}]},{\"props\":{},\"nodeType\":\"Scope\",\"type\":\"node\",\"instanceArgs\":{\"imports\":{\"data\":[],\"type\":\"async_block\"},\"id\":\"12364890782589623837\",\"handlers\":{},\"systemjs_options\":null,\"mount_callbacks\":[],\"observables\":{\"obs-node\":{\"sync\":false,\"id\":\"6867409204900436606\",\"value\":{\"props\":{\"className\":\"interact-flex-row interact-widget\"},\"nodeType\":\"DOM\",\"type\":\"node\",\"instanceArgs\":{\"namespace\":\"html\",\"tag\":\"div\"},\"children\":[{\"props\":{\"setInnerHtml\":\"<?xml version=\\\"1.0\\\" encoding=\\\"utf-8\\\"?>\\n<svg xmlns=\\\"http:\\/\\/www.w3.org\\/2000\\/svg\\\" xmlns:xlink=\\\"http:\\/\\/www.w3.org\\/1999\\/xlink\\\" width=\\\"640\\\" height=\\\"480\\\" viewBox=\\\"0 0 2560 1920\\\">\\n<defs>\\n  <clipPath id=\\\"clip570\\\">\\n    <rect x=\\\"0\\\" y=\\\"0\\\" width=\\\"2560\\\" height=\\\"1920\\\"\\/>\\n  <\\/clipPath>\\n<\\/defs>\\n<path clip-path=\\\"url(#clip570)\\\" d=\\\"\\nM0 1920 L2560 1920 L2560 0 L0 0  Z\\n  \\\" fill=\\\"#ffffff\\\" fill-rule=\\\"evenodd\\\" fill-opacity=\\\"1\\\"\\/>\\n<defs>\\n  <clipPath id=\\\"clip571\\\">\\n    <rect x=\\\"512\\\" y=\\\"0\\\" width=\\\"1793\\\" height=\\\"1793\\\"\\/>\\n  <\\/clipPath>\\n<\\/defs>\\n<path clip-path=\\\"url(#clip570)\\\" d=\\\"\\nM195.536 1798.93 L2512.76 1798.93 L2512.76 47.2441 L195.536 47.2441  Z\\n  \\\" fill=\\\"#ffffff\\\" fill-rule=\\\"evenodd\\\" fill-opacity=\\\"1\\\"\\/>\\n<defs>\\n  <clipPath id=\\\"clip572\\\">\\n    <rect x=\\\"195\\\" y=\\\"47\\\" width=\\\"2318\\\" height=\\\"1753\\\"\\/>\\n  <\\/clipPath>\\n<\\/defs>\\n<polyline clip-path=\\\"url(#clip572)\\\" style=\\\"stroke:#000000; stroke-linecap:butt; stroke-linejoin:round; stroke-width:2; stroke-opacity:0.1; fill:none\\\" points=\\\"\\n  324.27,1798.93 324.27,47.2441 \\n  \\\"\\/>\\n<polyline clip-path=\\\"url(#clip572)\\\" style=\\\"stroke:#000000; stroke-linecap:butt; stroke-linejoin:round; stroke-width:2; stroke-opacity:0.1; fill:none\\\" points=\\\"\\n  839.208,1798.93 839.208,47.2441 \\n  \\\"\\/>\\n<polyline clip-path=\\\"url(#clip572)\\\" style=\\\"stroke:#000000; stroke-linecap:butt; stroke-linejoin:round; stroke-width:2; stroke-opacity:0.1; fill:none\\\" points=\\\"\\n  1354.15,1798.93 1354.15,47.2441 \\n  \\\"\\/>\\n<polyline clip-path=\\\"url(#clip572)\\\" style=\\\"stroke:#000000; stroke-linecap:butt; stroke-linejoin:round; stroke-width:2; stroke-opacity:0.1; fill:none\\\" points=\\\"\\n  1869.08,1798.93 1869.08,47.2441 \\n  \\\"\\/>\\n<polyline clip-path=\\\"url(#clip572)\\\" style=\\\"stroke:#000000; stroke-linecap:butt; stroke-linejoin:round; stroke-width:2; stroke-opacity:0.1; fill:none\\\" points=\\\"\\n  2384.02,1798.93 2384.02,47.2441 \\n  \\\"\\/>\\n<polyline clip-path=\\\"url(#clip570)\\\" style=\\\"stroke:#000000; stroke-linecap:butt; stroke-linejoin:round; stroke-width:4; stroke-opacity:1; fill:none\\\" points=\\\"\\n  195.536,1798.93 2512.76,1798.93 \\n  \\\"\\/>\\n<polyline clip-path=\\\"url(#clip570)\\\" style=\\\"stroke:#000000; stroke-linecap:butt; stroke-linejoin:round; stroke-width:4; stroke-opacity:1; fill:none\\\" points=\\\"\\n  324.27,1798.93 324.27,1780.03 \\n  \\\"\\/>\\n<polyline clip-path=\\\"url(#clip570)\\\" style=\\\"stroke:#000000; stroke-linecap:butt; stroke-linejoin:round; stroke-width:4; stroke-opacity:1; fill:none\\\" points=\\\"\\n  839.208,1798.93 839.208,1780.03 \\n  \\\"\\/>\\n<polyline clip-path=\\\"url(#clip570)\\\" style=\\\"stroke:#000000; stroke-linecap:butt; stroke-linejoin:round; stroke-width:4; stroke-opacity:1; fill:none\\\" points=\\\"\\n  1354.15,1798.93 1354.15,1780.03 \\n  \\\"\\/>\\n<polyline clip-path=\\\"url(#clip570)\\\" style=\\\"stroke:#000000; stroke-linecap:butt; stroke-linejoin:round; stroke-width:4; stroke-opacity:1; fill:none\\\" points=\\\"\\n  1869.08,1798.93 1869.08,1780.03 \\n  \\\"\\/>\\n<polyline clip-path=\\\"url(#clip570)\\\" style=\\\"stroke:#000000; stroke-linecap:butt; stroke-linejoin:round; stroke-width:4; stroke-opacity:1; fill:none\\\" points=\\\"\\n  2384.02,1798.93 2384.02,1780.03 \\n  \\\"\\/>\\n<path clip-path=\\\"url(#clip570)\\\" d=\\\"M294.213 1845.78 L323.888 1845.78 L323.888 1849.71 L294.213 1849.71 L294.213 1845.78 Z\\\" fill=\\\"#000000\\\" fill-rule=\\\"evenodd\\\" fill-opacity=\\\"1\\\" \\/><path clip-path=\\\"url(#clip570)\\\" d=\\\"M338.009 1858.67 L354.328 1858.67 L354.328 1862.61 L332.384 1862.61 L332.384 1858.67 Q335.046 1855.92 339.629 1851.29 Q344.236 1846.64 345.416 1845.29 Q347.662 1842.77 348.541 1841.03 Q349.444 1839.27 349.444 1837.58 Q349.444 1834.83 347.499 1833.09 Q345.578 1831.36 342.476 1831.36 Q340.277 1831.36 337.824 1832.12 Q335.393 1832.89 332.615 1834.44 L332.615 1829.71 Q335.439 1828.58 337.893 1828 Q340.347 1827.42 342.384 1827.42 Q347.754 1827.42 350.949 1830.11 Q354.143 1832.79 354.143 1837.28 Q354.143 1839.41 353.333 1841.33 Q352.546 1843.23 350.439 1845.83 Q349.861 1846.5 346.759 1849.71 Q343.657 1852.91 338.009 1858.67 Z\\\" fill=\\\"#000000\\\" fill-rule=\\\"evenodd\\\" fill-opacity=\\\"1\\\" \\/><path clip-path=\\\"url(#clip570)\\\" d=\\\"M808.965 1845.78 L838.641 1845.78 L838.641 1849.71 L808.965 1849.71 L808.965 1845.78 Z\\\" fill=\\\"#000000\\\" fill-rule=\\\"evenodd\\\" fill-opacity=\\\"1\\\" \\/><path clip-path=\\\"url(#clip570)\\\" d=\\\"M849.544 1858.67 L857.183 1858.67 L857.183 1832.31 L848.872 1833.97 L848.872 1829.71 L857.136 1828.05 L861.812 1828.05 L861.812 1858.67 L869.451 1858.67 L869.451 1862.61 L849.544 1862.61 L849.544 1858.67 Z\\\" fill=\\\"#000000\\\" fill-rule=\\\"evenodd\\\" fill-opacity=\\\"1\\\" \\/><path clip-path=\\\"url(#clip570)\\\" d=\\\"M1354.15 1831.13 Q1350.53 1831.13 1348.71 1834.69 Q1346.9 1838.23 1346.9 1845.36 Q1346.9 1852.47 1348.71 1856.03 Q1350.53 1859.58 1354.15 1859.58 Q1357.78 1859.58 1359.59 1856.03 Q1361.41 1852.47 1361.41 1845.36 Q1361.41 1838.23 1359.59 1834.69 Q1357.78 1831.13 1354.15 1831.13 M1354.15 1827.42 Q1359.96 1827.42 1363.01 1832.03 Q1366.09 1836.61 1366.09 1845.36 Q1366.09 1854.09 1363.01 1858.7 Q1359.96 1863.28 1354.15 1863.28 Q1348.34 1863.28 1345.26 1858.7 Q1342.2 1854.09 1342.2 1845.36 Q1342.2 1836.61 1345.26 1832.03 Q1348.34 1827.42 1354.15 1827.42 Z\\\" fill=\\\"#000000\\\" fill-rule=\\\"evenodd\\\" fill-opacity=\\\"1\\\" \\/><path clip-path=\\\"url(#clip570)\\\" d=\\\"M1859.47 1858.67 L1867.1 1858.67 L1867.1 1832.31 L1858.79 1833.97 L1858.79 1829.71 L1867.06 1828.05 L1871.73 1828.05 L1871.73 1858.67 L1879.37 1858.67 L1879.37 1862.61 L1859.47 1862.61 L1859.47 1858.67 Z\\\" fill=\\\"#000000\\\" fill-rule=\\\"evenodd\\\" fill-opacity=\\\"1\\\" \\/><path clip-path=\\\"url(#clip570)\\\" d=\\\"M2378.67 1858.67 L2394.99 1858.67 L2394.99 1862.61 L2373.05 1862.61 L2373.05 1858.67 Q2375.71 1855.92 2380.29 1851.29 Q2384.9 1846.64 2386.08 1845.29 Q2388.33 1842.77 2389.21 1841.03 Q2390.11 1839.27 2390.11 1837.58 Q2390.11 1834.83 2388.16 1833.09 Q2386.24 1831.36 2383.14 1831.36 Q2380.94 1831.36 2378.49 1832.12 Q2376.06 1832.89 2373.28 1834.44 L2373.28 1829.71 Q2376.1 1828.58 2378.56 1828 Q2381.01 1827.42 2383.05 1827.42 Q2388.42 1827.42 2391.61 1830.11 Q2394.81 1832.79 2394.81 1837.28 Q2394.81 1839.41 2394 1841.33 Q2393.21 1843.23 2391.1 1845.83 Q2390.53 1846.5 2387.42 1849.71 Q2384.32 1852.91 2378.67 1858.67 Z\\\" fill=\\\"#000000\\\" fill-rule=\\\"evenodd\\\" fill-opacity=\\\"1\\\" \\/><polyline clip-path=\\\"url(#clip572)\\\" style=\\\"stroke:#000000; stroke-linecap:butt; stroke-linejoin:round; stroke-width:2; stroke-opacity:0.1; fill:none\\\" points=\\\"\\n  195.536,1705.09 2512.76,1705.09 \\n  \\\"\\/>\\n<polyline clip-path=\\\"url(#clip572)\\\" style=\\\"stroke:#000000; stroke-linecap:butt; stroke-linejoin:round; stroke-width:2; stroke-opacity:0.1; fill:none\\\" points=\\\"\\n  195.536,1444.42 2512.76,1444.42 \\n  \\\"\\/>\\n<polyline clip-path=\\\"url(#clip572)\\\" style=\\\"stroke:#000000; stroke-linecap:butt; stroke-linejoin:round; stroke-width:2; stroke-opacity:0.1; fill:none\\\" points=\\\"\\n  195.536,1183.75 2512.76,1183.75 \\n  \\\"\\/>\\n<polyline clip-path=\\\"url(#clip572)\\\" style=\\\"stroke:#000000; stroke-linecap:butt; stroke-linejoin:round; stroke-width:2; stroke-opacity:0.1; fill:none\\\" points=\\\"\\n  195.536,923.086 2512.76,923.086 \\n  \\\"\\/>\\n<polyline clip-path=\\\"url(#clip572)\\\" style=\\\"stroke:#000000; stroke-linecap:butt; stroke-linejoin:round; stroke-width:2; stroke-opacity:0.1; fill:none\\\" points=\\\"\\n  195.536,662.419 2512.76,662.419 \\n  \\\"\\/>\\n<polyline clip-path=\\\"url(#clip572)\\\" style=\\\"stroke:#000000; stroke-linecap:butt; stroke-linejoin:round; stroke-width:2; stroke-opacity:0.1; fill:none\\\" points=\\\"\\n  195.536,401.752 2512.76,401.752 \\n  \\\"\\/>\\n<polyline clip-path=\\\"url(#clip572)\\\" style=\\\"stroke:#000000; stroke-linecap:butt; stroke-linejoin:round; stroke-width:2; stroke-opacity:0.1; fill:none\\\" points=\\\"\\n  195.536,141.084 2512.76,141.084 \\n  \\\"\\/>\\n<polyline clip-path=\\\"url(#clip570)\\\" style=\\\"stroke:#000000; stroke-linecap:butt; stroke-linejoin:round; stroke-width:4; stroke-opacity:1; fill:none\\\" points=\\\"\\n  195.536,1798.93 195.536,47.2441 \\n  \\\"\\/>\\n<polyline clip-path=\\\"url(#clip570)\\\" style=\\\"stroke:#000000; stroke-linecap:butt; stroke-linejoin:round; stroke-width:4; stroke-opacity:1; fill:none\\\" points=\\\"\\n  195.536,1705.09 214.434,1705.09 \\n  \\\"\\/>\\n<polyline clip-path=\\\"url(#clip570)\\\" style=\\\"stroke:#000000; stroke-linecap:butt; stroke-linejoin:round; stroke-width:4; stroke-opacity:1; fill:none\\\" points=\\\"\\n  195.536,1444.42 214.434,1444.42 \\n  \\\"\\/>\\n<polyline clip-path=\\\"url(#clip570)\\\" style=\\\"stroke:#000000; stroke-linecap:butt; stroke-linejoin:round; stroke-width:4; stroke-opacity:1; fill:none\\\" points=\\\"\\n  195.536,1183.75 214.434,1183.75 \\n  \\\"\\/>\\n<polyline clip-path=\\\"url(#clip570)\\\" style=\\\"stroke:#000000; stroke-linecap:butt; stroke-linejoin:round; stroke-width:4; stroke-opacity:1; fill:none\\\" points=\\\"\\n  195.536,923.086 214.434,923.086 \\n  \\\"\\/>\\n<polyline clip-path=\\\"url(#clip570)\\\" style=\\\"stroke:#000000; stroke-linecap:butt; stroke-linejoin:round; stroke-width:4; stroke-opacity:1; fill:none\\\" points=\\\"\\n  195.536,662.419 214.434,662.419 \\n  \\\"\\/>\\n<polyline clip-path=\\\"url(#clip570)\\\" style=\\\"stroke:#000000; stroke-linecap:butt; stroke-linejoin:round; stroke-width:4; stroke-opacity:1; fill:none\\\" points=\\\"\\n  195.536,401.752 214.434,401.752 \\n  \\\"\\/>\\n<polyline clip-path=\\\"url(#clip570)\\\" style=\\\"stroke:#000000; stroke-linecap:butt; stroke-linejoin:round; stroke-width:4; stroke-opacity:1; fill:none\\\" points=\\\"\\n  195.536,141.084 214.434,141.084 \\n  \\\"\\/>\\n<path clip-path=\\\"url(#clip570)\\\" d=\\\"M51.1875 1705.54 L80.8633 1705.54 L80.8633 1709.47 L51.1875 1709.47 L51.1875 1705.54 Z\\\" fill=\\\"#000000\\\" fill-rule=\\\"evenodd\\\" fill-opacity=\\\"1\\\" \\/><path clip-path=\\\"url(#clip570)\\\" d=\\\"M91.766 1718.43 L99.4048 1718.43 L99.4048 1692.07 L91.0947 1693.73 L91.0947 1689.47 L99.3585 1687.81 L104.034 1687.81 L104.034 1718.43 L111.673 1718.43 L111.673 1722.37 L91.766 1722.37 L91.766 1718.43 Z\\\" fill=\\\"#000000\\\" fill-rule=\\\"evenodd\\\" fill-opacity=\\\"1\\\" \\/><path clip-path=\\\"url(#clip570)\\\" d=\\\"M121.118 1716.49 L126.002 1716.49 L126.002 1722.37 L121.118 1722.37 L121.118 1716.49 Z\\\" fill=\\\"#000000\\\" fill-rule=\\\"evenodd\\\" fill-opacity=\\\"1\\\" \\/><path clip-path=\\\"url(#clip570)\\\" d=\\\"M136.233 1687.81 L154.59 1687.81 L154.59 1691.74 L140.516 1691.74 L140.516 1700.22 Q141.534 1699.87 142.553 1699.71 Q143.571 1699.52 144.59 1699.52 Q150.377 1699.52 153.756 1702.69 Q157.136 1705.86 157.136 1711.28 Q157.136 1716.86 153.664 1719.96 Q150.192 1723.04 143.872 1723.04 Q141.696 1723.04 139.428 1722.67 Q137.182 1722.3 134.775 1721.56 L134.775 1716.86 Q136.858 1717.99 139.081 1718.55 Q141.303 1719.1 143.78 1719.1 Q147.784 1719.1 150.122 1717 Q152.46 1714.89 152.46 1711.28 Q152.46 1707.67 150.122 1705.56 Q147.784 1703.46 143.78 1703.46 Q141.905 1703.46 140.03 1703.87 Q138.178 1704.29 136.233 1705.17 L136.233 1687.81 Z\\\" fill=\\\"#000000\\\" fill-rule=\\\"evenodd\\\" fill-opacity=\\\"1\\\" \\/><path clip-path=\\\"url(#clip570)\\\" d=\\\"M50.1921 1444.87 L79.8679 1444.87 L79.8679 1448.81 L50.1921 1448.81 L50.1921 1444.87 Z\\\" fill=\\\"#000000\\\" fill-rule=\\\"evenodd\\\" fill-opacity=\\\"1\\\" \\/><path clip-path=\\\"url(#clip570)\\\" d=\\\"M90.7706 1457.77 L98.4095 1457.77 L98.4095 1431.4 L90.0993 1433.07 L90.0993 1428.81 L98.3632 1427.14 L103.039 1427.14 L103.039 1457.77 L110.678 1457.77 L110.678 1461.7 L90.7706 1461.7 L90.7706 1457.77 Z\\\" fill=\\\"#000000\\\" fill-rule=\\\"evenodd\\\" fill-opacity=\\\"1\\\" \\/><path clip-path=\\\"url(#clip570)\\\" d=\\\"M120.122 1455.82 L125.007 1455.82 L125.007 1461.7 L120.122 1461.7 L120.122 1455.82 Z\\\" fill=\\\"#000000\\\" fill-rule=\\\"evenodd\\\" fill-opacity=\\\"1\\\" \\/><path clip-path=\\\"url(#clip570)\\\" d=\\\"M145.192 1430.22 Q141.581 1430.22 139.752 1433.78 Q137.946 1437.33 137.946 1444.46 Q137.946 1451.56 139.752 1455.13 Q141.581 1458.67 145.192 1458.67 Q148.826 1458.67 150.631 1455.13 Q152.46 1451.56 152.46 1444.46 Q152.46 1437.33 150.631 1433.78 Q148.826 1430.22 145.192 1430.22 M145.192 1426.52 Q151.002 1426.52 154.057 1431.12 Q157.136 1435.71 157.136 1444.46 Q157.136 1453.18 154.057 1457.79 Q151.002 1462.37 145.192 1462.37 Q139.381 1462.37 136.303 1457.79 Q133.247 1453.18 133.247 1444.46 Q133.247 1435.71 136.303 1431.12 Q139.381 1426.52 145.192 1426.52 Z\\\" fill=\\\"#000000\\\" fill-rule=\\\"evenodd\\\" fill-opacity=\\\"1\\\" \\/><path clip-path=\\\"url(#clip570)\\\" d=\\\"M51.1875 1184.2 L80.8633 1184.2 L80.8633 1188.14 L51.1875 1188.14 L51.1875 1184.2 Z\\\" fill=\\\"#000000\\\" fill-rule=\\\"evenodd\\\" fill-opacity=\\\"1\\\" \\/><path clip-path=\\\"url(#clip570)\\\" d=\\\"M100.956 1169.55 Q97.3447 1169.55 95.516 1173.12 Q93.7104 1176.66 93.7104 1183.79 Q93.7104 1190.89 95.516 1194.46 Q97.3447 1198 100.956 1198 Q104.59 1198 106.396 1194.46 Q108.224 1190.89 108.224 1183.79 Q108.224 1176.66 106.396 1173.12 Q104.59 1169.55 100.956 1169.55 M100.956 1165.85 Q106.766 1165.85 109.821 1170.45 Q112.9 1175.04 112.9 1183.79 Q112.9 1192.51 109.821 1197.12 Q106.766 1201.7 100.956 1201.7 Q95.1456 1201.7 92.0669 1197.12 Q89.0114 1192.51 89.0114 1183.79 Q89.0114 1175.04 92.0669 1170.45 Q95.1456 1165.85 100.956 1165.85 Z\\\" fill=\\\"#000000\\\" fill-rule=\\\"evenodd\\\" fill-opacity=\\\"1\\\" \\/><path clip-path=\\\"url(#clip570)\\\" d=\\\"M121.118 1195.15 L126.002 1195.15 L126.002 1201.03 L121.118 1201.03 L121.118 1195.15 Z\\\" fill=\\\"#000000\\\" fill-rule=\\\"evenodd\\\" fill-opacity=\\\"1\\\" \\/><path clip-path=\\\"url(#clip570)\\\" d=\\\"M136.233 1166.47 L154.59 1166.47 L154.59 1170.41 L140.516 1170.41 L140.516 1178.88 Q141.534 1178.53 142.553 1178.37 Q143.571 1178.19 144.59 1178.19 Q150.377 1178.19 153.756 1181.36 Q157.136 1184.53 157.136 1189.95 Q157.136 1195.52 153.664 1198.63 Q150.192 1201.7 143.872 1201.7 Q141.696 1201.7 139.428 1201.33 Q137.182 1200.96 134.775 1200.22 L134.775 1195.52 Q136.858 1196.66 139.081 1197.21 Q141.303 1197.77 143.78 1197.77 Q147.784 1197.77 150.122 1195.66 Q152.46 1193.56 152.46 1189.95 Q152.46 1186.33 150.122 1184.23 Q147.784 1182.12 143.78 1182.12 Q141.905 1182.12 140.03 1182.54 Q138.178 1182.95 136.233 1183.83 L136.233 1166.47 Z\\\" fill=\\\"#000000\\\" fill-rule=\\\"evenodd\\\" fill-opacity=\\\"1\\\" \\/><path clip-path=\\\"url(#clip570)\\\" d=\\\"M99.9604 908.885 Q96.3493 908.885 94.5206 912.449 Q92.715 915.991 92.715 923.121 Q92.715 930.227 94.5206 933.792 Q96.3493 937.334 99.9604 937.334 Q103.595 937.334 105.4 933.792 Q107.229 930.227 107.229 923.121 Q107.229 915.991 105.4 912.449 Q103.595 908.885 99.9604 908.885 M99.9604 905.181 Q105.771 905.181 108.826 909.787 Q111.905 914.371 111.905 923.121 Q111.905 931.848 108.826 936.454 Q105.771 941.037 99.9604 941.037 Q94.1502 941.037 91.0715 936.454 Q88.016 931.848 88.016 923.121 Q88.016 914.371 91.0715 909.787 Q94.1502 905.181 99.9604 905.181 Z\\\" fill=\\\"#000000\\\" fill-rule=\\\"evenodd\\\" fill-opacity=\\\"1\\\" \\/><path clip-path=\\\"url(#clip570)\\\" d=\\\"M120.122 934.486 L125.007 934.486 L125.007 940.366 L120.122 940.366 L120.122 934.486 Z\\\" fill=\\\"#000000\\\" fill-rule=\\\"evenodd\\\" fill-opacity=\\\"1\\\" \\/><path clip-path=\\\"url(#clip570)\\\" d=\\\"M145.192 908.885 Q141.581 908.885 139.752 912.449 Q137.946 915.991 137.946 923.121 Q137.946 930.227 139.752 933.792 Q141.581 937.334 145.192 937.334 Q148.826 937.334 150.631 933.792 Q152.46 930.227 152.46 923.121 Q152.46 915.991 150.631 912.449 Q148.826 908.885 145.192 908.885 M145.192 905.181 Q151.002 905.181 154.057 909.787 Q157.136 914.371 157.136 923.121 Q157.136 931.848 154.057 936.454 Q151.002 941.037 145.192 941.037 Q139.381 941.037 136.303 936.454 Q133.247 931.848 133.247 923.121 Q133.247 914.371 136.303 909.787 Q139.381 905.181 145.192 905.181 Z\\\" fill=\\\"#000000\\\" fill-rule=\\\"evenodd\\\" fill-opacity=\\\"1\\\" \\/><path clip-path=\\\"url(#clip570)\\\" d=\\\"M100.956 648.217 Q97.3447 648.217 95.516 651.782 Q93.7104 655.324 93.7104 662.453 Q93.7104 669.56 95.516 673.125 Q97.3447 676.666 100.956 676.666 Q104.59 676.666 106.396 673.125 Q108.224 669.56 108.224 662.453 Q108.224 655.324 106.396 651.782 Q104.59 648.217 100.956 648.217 M100.956 644.514 Q106.766 644.514 109.821 649.12 Q112.9 653.704 112.9 662.453 Q112.9 671.18 109.821 675.787 Q106.766 680.37 100.956 680.37 Q95.1456 680.37 92.0669 675.787 Q89.0114 671.18 89.0114 662.453 Q89.0114 653.704 92.0669 649.12 Q95.1456 644.514 100.956 644.514 Z\\\" fill=\\\"#000000\\\" fill-rule=\\\"evenodd\\\" fill-opacity=\\\"1\\\" \\/><path clip-path=\\\"url(#clip570)\\\" d=\\\"M121.118 673.819 L126.002 673.819 L126.002 679.699 L121.118 679.699 L121.118 673.819 Z\\\" fill=\\\"#000000\\\" fill-rule=\\\"evenodd\\\" fill-opacity=\\\"1\\\" \\/><path clip-path=\\\"url(#clip570)\\\" d=\\\"M136.233 645.139 L154.59 645.139 L154.59 649.074 L140.516 649.074 L140.516 657.546 Q141.534 657.199 142.553 657.037 Q143.571 656.852 144.59 656.852 Q150.377 656.852 153.756 660.023 Q157.136 663.194 157.136 668.611 Q157.136 674.19 153.664 677.291 Q150.192 680.37 143.872 680.37 Q141.696 680.37 139.428 680 Q137.182 679.629 134.775 678.889 L134.775 674.19 Q136.858 675.324 139.081 675.879 Q141.303 676.435 143.78 676.435 Q147.784 676.435 150.122 674.328 Q152.46 672.222 152.46 668.611 Q152.46 665 150.122 662.893 Q147.784 660.787 143.78 660.787 Q141.905 660.787 140.03 661.203 Q138.178 661.62 136.233 662.5 L136.233 645.139 Z\\\" fill=\\\"#000000\\\" fill-rule=\\\"evenodd\\\" fill-opacity=\\\"1\\\" \\/><path clip-path=\\\"url(#clip570)\\\" d=\\\"M90.7706 415.096 L98.4095 415.096 L98.4095 388.731 L90.0993 390.397 L90.0993 386.138 L98.3632 384.472 L103.039 384.472 L103.039 415.096 L110.678 415.096 L110.678 419.032 L90.7706 419.032 L90.7706 415.096 Z\\\" fill=\\\"#000000\\\" fill-rule=\\\"evenodd\\\" fill-opacity=\\\"1\\\" \\/><path clip-path=\\\"url(#clip570)\\\" d=\\\"M120.122 413.152 L125.007 413.152 L125.007 419.032 L120.122 419.032 L120.122 413.152 Z\\\" fill=\\\"#000000\\\" fill-rule=\\\"evenodd\\\" fill-opacity=\\\"1\\\" \\/><path clip-path=\\\"url(#clip570)\\\" d=\\\"M145.192 387.55 Q141.581 387.55 139.752 391.115 Q137.946 394.657 137.946 401.786 Q137.946 408.893 139.752 412.457 Q141.581 415.999 145.192 415.999 Q148.826 415.999 150.631 412.457 Q152.46 408.893 152.46 401.786 Q152.46 394.657 150.631 391.115 Q148.826 387.55 145.192 387.55 M145.192 383.847 Q151.002 383.847 154.057 388.453 Q157.136 393.036 157.136 401.786 Q157.136 410.513 154.057 415.12 Q151.002 419.703 145.192 419.703 Q139.381 419.703 136.303 415.12 Q133.247 410.513 133.247 401.786 Q133.247 393.036 136.303 388.453 Q139.381 383.847 145.192 383.847 Z\\\" fill=\\\"#000000\\\" fill-rule=\\\"evenodd\\\" fill-opacity=\\\"1\\\" \\/><path clip-path=\\\"url(#clip570)\\\" d=\\\"M91.766 154.429 L99.4048 154.429 L99.4048 128.064 L91.0947 129.73 L91.0947 125.471 L99.3585 123.804 L104.034 123.804 L104.034 154.429 L111.673 154.429 L111.673 158.364 L91.766 158.364 L91.766 154.429 Z\\\" fill=\\\"#000000\\\" fill-rule=\\\"evenodd\\\" fill-opacity=\\\"1\\\" \\/><path clip-path=\\\"url(#clip570)\\\" d=\\\"M121.118 152.485 L126.002 152.485 L126.002 158.364 L121.118 158.364 L121.118 152.485 Z\\\" fill=\\\"#000000\\\" fill-rule=\\\"evenodd\\\" fill-opacity=\\\"1\\\" \\/><path clip-path=\\\"url(#clip570)\\\" d=\\\"M136.233 123.804 L154.59 123.804 L154.59 127.739 L140.516 127.739 L140.516 136.212 Q141.534 135.864 142.553 135.702 Q143.571 135.517 144.59 135.517 Q150.377 135.517 153.756 138.688 Q157.136 141.86 157.136 147.276 Q157.136 152.855 153.664 155.957 Q150.192 159.036 143.872 159.036 Q141.696 159.036 139.428 158.665 Q137.182 158.295 134.775 157.554 L134.775 152.855 Q136.858 153.989 139.081 154.545 Q141.303 155.1 143.78 155.1 Q147.784 155.1 150.122 152.994 Q152.46 150.887 152.46 147.276 Q152.46 143.665 150.122 141.559 Q147.784 139.452 143.78 139.452 Q141.905 139.452 140.03 139.869 Q138.178 140.286 136.233 141.165 L136.233 123.804 Z\\\" fill=\\\"#000000\\\" fill-rule=\\\"evenodd\\\" fill-opacity=\\\"1\\\" \\/><polyline clip-path=\\\"url(#clip572)\\\" style=\\\"stroke:#000000; stroke-linecap:butt; stroke-linejoin:round; stroke-width:8; stroke-opacity:1; fill:none\\\" points=\\\"\\n  1871.66,883.986 1870.54,848.276 1867.18,812.709 1861.61,777.43 1853.83,742.579 1843.89,708.298 1831.82,674.725 1817.67,641.994 1801.5,610.237 1783.37,579.583 \\n  1763.36,550.154 1741.55,522.07 1718.02,495.443 1692.87,470.38 1666.2,446.983 1638.11,425.346 1608.73,405.555 1578.17,387.691 1546.55,371.826 1514,358.022 \\n  1480.65,346.337 1446.64,336.816 1412.1,329.499 1377.17,324.414 1341.99,321.582 1306.7,321.016 1271.45,322.716 1236.38,326.676 1201.63,332.88 1167.33,341.303 \\n  1133.63,351.911 1100.67,364.662 1068.57,379.504 1037.46,396.378 1007.47,415.215 978.726,435.939 951.336,458.468 925.412,482.71 901.06,508.567 878.376,535.937 \\n  857.452,564.708 838.373,594.764 821.215,625.985 806.048,658.245 792.932,691.414 781.92,725.359 773.057,759.942 766.378,795.025 761.911,830.465 759.673,866.122 \\n  759.673,901.85 761.911,937.506 766.378,972.947 773.057,1008.03 781.92,1042.61 792.932,1076.56 806.048,1109.73 821.215,1141.99 838.373,1173.21 857.452,1203.26 \\n  878.376,1232.03 901.06,1259.4 925.412,1285.26 951.336,1309.5 978.726,1332.03 1007.47,1352.76 1037.46,1371.59 1068.57,1388.47 1100.67,1403.31 1133.63,1416.06 \\n  1167.33,1426.67 1201.63,1435.09 1236.38,1441.3 1271.45,1445.26 1306.7,1446.96 1341.99,1446.39 1377.17,1443.56 1412.1,1438.47 1446.64,1431.16 1480.65,1421.64 \\n  1514,1409.95 1546.55,1396.15 1578.17,1380.28 1608.73,1362.42 1638.11,1342.63 1666.2,1320.99 1692.87,1297.59 1718.02,1272.53 1741.55,1245.9 1763.36,1217.82 \\n  1783.37,1188.39 1801.5,1157.73 1817.67,1125.98 1831.82,1093.25 1843.89,1059.67 1853.83,1025.39 1861.61,990.542 1867.18,955.263 1870.54,919.696 1871.66,883.986 \\n  \\n  \\\"\\/>\\n<path clip-path=\\\"url(#clip570)\\\" d=\\\"\\nM2125.62 209.314 L2435.52 209.314 L2435.52 105.634 L2125.62 105.634  Z\\n  \\\" fill=\\\"#ffffff\\\" fill-rule=\\\"evenodd\\\" fill-opacity=\\\"1\\\"\\/>\\n<polyline clip-path=\\\"url(#clip570)\\\" style=\\\"stroke:#000000; stroke-linecap:butt; stroke-linejoin:round; stroke-width:4; stroke-opacity:1; fill:none\\\" points=\\\"\\n  2125.62,209.314 2435.52,209.314 2435.52,105.634 2125.62,105.634 2125.62,209.314 \\n  \\\"\\/>\\n<polyline clip-path=\\\"url(#clip570)\\\" style=\\\"stroke:#000000; stroke-linecap:butt; stroke-linejoin:round; stroke-width:4; stroke-opacity:1; fill:none\\\" points=\\\"\\n  2151.36,157.474 2305.84,157.474 \\n  \\\"\\/>\\n<path clip-path=\\\"url(#clip570)\\\" d=\\\"M2345.43 177.161 Q2343.63 181.791 2341.92 183.203 Q2340.2 184.615 2337.33 184.615 L2333.93 184.615 L2333.93 181.05 L2336.43 181.05 Q2338.19 181.05 2339.16 180.216 Q2340.13 179.383 2341.31 176.281 L2342.08 174.337 L2331.59 148.828 L2336.11 148.828 L2344.21 169.105 L2352.31 148.828 L2356.82 148.828 L2345.43 177.161 Z\\\" fill=\\\"#000000\\\" fill-rule=\\\"evenodd\\\" fill-opacity=\\\"1\\\" \\/><path clip-path=\\\"url(#clip570)\\\" d=\\\"M2364.11 170.818 L2371.75 170.818 L2371.75 144.453 L2363.44 146.119 L2363.44 141.86 L2371.71 140.194 L2376.38 140.194 L2376.38 170.818 L2384.02 170.818 L2384.02 174.754 L2364.11 174.754 L2364.11 170.818 Z\\\" fill=\\\"#000000\\\" fill-rule=\\\"evenodd\\\" fill-opacity=\\\"1\\\" \\/><\\/svg>\\n\"},\"nodeType\":\"DOM\",\"type\":\"node\",\"instanceArgs\":{\"namespace\":\"html\",\"tag\":\"div\"},\"children\":[]}]}}}},\"children\":[{\"props\":{},\"nodeType\":\"ObservableNode\",\"type\":\"node\",\"instanceArgs\":{\"id\":\"6867409204900436606\",\"name\":\"obs-node\"},\"children\":[]}]}]},\n",
       "        window,\n",
       "    );\n",
       "    })()\n",
       "    </script>\n",
       "</div>\n"
      ],
      "text/plain": [
       "Node{WebIO.DOM}(WebIO.DOM(:html, :div), Any[Node{WebIO.DOM}(WebIO.DOM(:html, :div), Any[Scope(Node{WebIO.DOM}(WebIO.DOM(:html, :div), Any[Node{WebIO.DOM}(WebIO.DOM(:html, :div), Any[Node{WebIO.DOM}(WebIO.DOM(:html, :label), Any[nothing], Dict{Symbol, Any}(:className => \"interact \", :style => Dict{Any, Any}(:padding => \"5px 10px 0px 10px\")))], Dict{Symbol, Any}(:className => \"interact-flex-row-left\")), Node{WebIO.DOM}(WebIO.DOM(:html, :div), Any[Node{WebIO.DOM}(WebIO.DOM(:html, :input), Any[], Dict{Symbol, Any}(:max => 101, :min => 1, :attributes => Dict{Any, Any}(:type => \"range\", Symbol(\"data-bind\") => \"numericValue: index, valueUpdate: 'input', event: {change: function (){this.changes(this.changes()+1)}}\", \"orient\" => \"horizontal\"), :step => 1, :className => \"slider slider is-fullwidth\", :style => Dict{Any, Any}()))], Dict{Symbol, Any}(:className => \"interact-flex-row-center\")), Node{WebIO.DOM}(WebIO.DOM(:html, :div), Any[Node{WebIO.DOM}(WebIO.DOM(:html, :p), Any[], Dict{Symbol, Any}(:attributes => Dict(\"data-bind\" => \"text: formatted_val\")))], Dict{Symbol, Any}(:className => \"interact-flex-row-right\"))], Dict{Symbol, Any}(:className => \"interact-flex-row interact-widget\")), Dict{String, Tuple{Observables.AbstractObservable, Union{Nothing, Bool}}}(\"changes\" => (Observable{Int64} with 1 listeners. Value:\n",
       "0, nothing), \"index\" => (Observable{Any} with 2 listeners. Value:\n",
       "1, nothing)), Set{String}(), nothing, Asset[Asset(\"js\", \"knockout\", \"/home/javier/.julia/packages/Knockout/3gjS1/src/../assets/knockout.js\"), Asset(\"js\", \"knockout_punches\", \"/home/javier/.julia/packages/Knockout/3gjS1/src/../assets/knockout_punches.js\"), Asset(\"js\", nothing, \"/home/javier/.julia/packages/InteractBase/h8Fwe/src/../assets/all.js\"), Asset(\"css\", nothing, \"/home/javier/.julia/packages/InteractBase/h8Fwe/src/../assets/style.css\"), Asset(\"css\", nothing, \"/home/javier/.julia/packages/Interact/pVyN2/src/../assets/bulma_confined.min.css\")], Dict{Any, Any}(\"changes\" => Any[WebIO.JSString(\"(function (val){return (val!=this.model[\\\"changes\\\"]()) ? (this.valueFromJulia[\\\"changes\\\"]=true, this.model[\\\"changes\\\"](val)) : undefined})\")], \"index\" => Any[WebIO.JSString(\"(function (val){return (val!=this.model[\\\"index\\\"]()) ? (this.valueFromJulia[\\\"index\\\"]=true, this.model[\\\"index\\\"](val)) : undefined})\")]), WebIO.ConnectionPool(Channel{Any}(32), Set{AbstractConnection}(), Condition(Base.InvasiveLinkedList{Task}(Task (runnable) @0x00007f43a2aa02f0, Task (runnable) @0x00007f43a2aa02f0), Base.AlwaysLockedST(1))), WebIO.JSString[WebIO.JSString(\"function () {\\n    var handler = (function (ko, koPunches) {\\n    ko.punches.enableAll();\\n    ko.bindingHandlers.numericValue = {\\n        init: function(element, valueAccessor, allBindings, data, context) {\\n            var stringified = ko.observable(ko.unwrap(valueAccessor()));\\n            stringified.subscribe(function(value) {\\n                var val = parseFloat(value);\\n                if (!isNaN(val)) {\\n                    valueAccessor()(val);\\n                }\\n            });\\n            valueAccessor().subscribe(function(value) {\\n                var str = JSON.stringify(value);\\n                if ((str == \\\"0\\\") && ([\\\"-0\\\", \\\"-0.\\\"].indexOf(stringified()) >= 0))\\n                     return;\\n                 if ([\\\"null\\\", \\\"\\\"].indexOf(str) >= 0)\\n                     return;\\n                stringified(str);\\n            });\\n            ko.applyBindingsToNode(\\n                element,\\n                {\\n                    value: stringified,\\n                    valueUpdate: allBindings.get('valueUpdate'),\\n                },\\n                context,\\n            );\\n        }\\n    };\\n    var json_data = {\\\"formatted_vals\\\":[\\\"0.0\\\",\\\"0.01\\\",\\\"0.02\\\",\\\"0.03\\\",\\\"0.04\\\",\\\"0.05\\\",\\\"0.06\\\",\\\"0.07\\\",\\\"0.08\\\",\\\"0.09\\\",\\\"0.1\\\",\\\"0.11\\\",\\\"0.12\\\",\\\"0.13\\\",\\\"0.14\\\",\\\"0.15\\\",\\\"0.16\\\",\\\"0.17\\\",\\\"0.18\\\",\\\"0.19\\\",\\\"0.2\\\",\\\"0.21\\\",\\\"0.22\\\",\\\"0.23\\\",\\\"0.24\\\",\\\"0.25\\\",\\\"0.26\\\",\\\"0.27\\\",\\\"0.28\\\",\\\"0.29\\\",\\\"0.3\\\",\\\"0.31\\\",\\\"0.32\\\",\\\"0.33\\\",\\\"0.34\\\",\\\"0.35\\\",\\\"0.36\\\",\\\"0.37\\\",\\\"0.38\\\",\\\"0.39\\\",\\\"0.4\\\",\\\"0.41\\\",\\\"0.42\\\",\\\"0.43\\\",\\\"0.44\\\",\\\"0.45\\\",\\\"0.46\\\",\\\"0.47\\\",\\\"0.48\\\",\\\"0.49\\\",\\\"0.5\\\",\\\"0.51\\\",\\\"0.52\\\",\\\"0.53\\\",\\\"0.54\\\",\\\"0.55\\\",\\\"0.56\\\",\\\"0.57\\\",\\\"0.58\\\",\\\"0.59\\\",\\\"0.6\\\",\\\"0.61\\\",\\\"0.62\\\",\\\"0.63\\\",\\\"0.64\\\",\\\"0.65\\\",\\\"0.66\\\",\\\"0.67\\\",\\\"0.68\\\",\\\"0.69\\\",\\\"0.7\\\",\\\"0.71\\\",\\\"0.72\\\",\\\"0.73\\\",\\\"0.74\\\",\\\"0.75\\\",\\\"0.76\\\",\\\"0.77\\\",\\\"0.78\\\",\\\"0.79\\\",\\\"0.8\\\",\\\"0.81\\\",\\\"0.82\\\",\\\"0.83\\\",\\\"0.84\\\",\\\"0.85\\\",\\\"0.86\\\",\\\"0.87\\\",\\\"0.88\\\",\\\"0.89\\\",\\\"0.9\\\",\\\"0.91\\\",\\\"0.92\\\",\\\"0.93\\\",\\\"0.94\\\",\\\"0.95\\\",\\\"0.96\\\",\\\"0.97\\\",\\\"0.98\\\",\\\"0.99\\\",\\\"1.0\\\"],\\\"changes\\\":WebIO.getval({\\\"name\\\":\\\"changes\\\",\\\"scope\\\":\\\"8366573390575065082\\\",\\\"id\\\":\\\"12964886570727546756\\\",\\\"type\\\":\\\"observable\\\"}),\\\"index\\\":WebIO.getval({\\\"name\\\":\\\"index\\\",\\\"scope\\\":\\\"8366573390575065082\\\",\\\"id\\\":\\\"6946474925219171591\\\",\\\"type\\\":\\\"observable\\\"})};\\n    var self = this;\\n    function AppViewModel() {\\n        for (var key in json_data) {\\n            var el = json_data[key];\\n            this[key] = Array.isArray(el) ? ko.observableArray(el) : ko.observable(el);\\n        }\\n        \\n        [this[\\\"formatted_val\\\"]=ko.computed(    function(){\\n        return this.formatted_vals()[parseInt(this.index())-(1)];\\n    }\\n,this)]\\n        [this[\\\"changes\\\"].subscribe((function (val){!(this.valueFromJulia[\\\"changes\\\"]) ? (WebIO.setval({\\\"name\\\":\\\"changes\\\",\\\"scope\\\":\\\"8366573390575065082\\\",\\\"id\\\":\\\"12964886570727546756\\\",\\\"type\\\":\\\"observable\\\"},val)) : undefined; return this.valueFromJulia[\\\"changes\\\"]=false}),self),this[\\\"index\\\"].subscribe((function (val){!(this.valueFromJulia[\\\"index\\\"]) ? (WebIO.setval({\\\"name\\\":\\\"index\\\",\\\"scope\\\":\\\"8366573390575065082\\\",\\\"id\\\":\\\"6946474925219171591\\\",\\\"type\\\":\\\"observable\\\"},val)) : undefined; return this.valueFromJulia[\\\"index\\\"]=false}),self)]\\n        \\n    }\\n    self.model = new AppViewModel();\\n    self.valueFromJulia = {};\\n    for (var key in json_data) {\\n        self.valueFromJulia[key] = false;\\n    }\\n    ko.applyBindings(self.model, self.dom);\\n}\\n);\\n    (WebIO.importBlock({\\\"data\\\":[{\\\"name\\\":\\\"knockout\\\",\\\"type\\\":\\\"js\\\",\\\"url\\\":\\\"/assetserver/8cdea83dca575c449b882b4d743df8ba3f7f7f7d-knockout.js\\\"},{\\\"name\\\":\\\"knockout_punches\\\",\\\"type\\\":\\\"js\\\",\\\"url\\\":\\\"/assetserver/a43458a83d2a8b311c6ed0126066d2e5dcc7ec77-knockout_punches.js\\\"}],\\\"type\\\":\\\"async_block\\\"})).then((imports) => handler.apply(this, imports));\\n}\\n\")])], Dict{Symbol, Any}(:className => \"field interact-widget\")), Observable{Node{WebIO.DOM}} with 0 listeners. Value:\n",
       "Node{WebIO.DOM}(WebIO.DOM(:html, :div), Any[Plot{Plots.GRBackend() n=1}], Dict{Symbol, Any}(:className => \"interact-flex-row interact-widget\"))], Dict{Symbol, Any}())"
      ]
     },
     "execution_count": 4,
     "metadata": {
      "application/vnd.webio.node+json": {
       "kernelId": "3e8f3696-d6a6-4b1e-8e03-de895e96b2ef"
      }
     },
     "output_type": "execute_result"
    }
   ],
   "source": [
    "@manipulate for α in slider(0:0.01:1, value=0)\n",
    "    T = g.(f, create_circle(1.08); α=α)\n",
    "    reT, imT = real(T), imag(T)\n",
    "    p = plot(reT, imT, size=(640, 480), xlims=(-2.25, 2.25), ylims=(-1.68, 1.68), lw=2, color=:black)\n",
    "end"
   ]
  }
 ],
 "metadata": {
  "@webio": {
   "lastCommId": "4d39178b01a94e028af3d2584813419f",
   "lastKernelId": "3e8f3696-d6a6-4b1e-8e03-de895e96b2ef"
  },
  "kernelspec": {
   "display_name": "Julia 1.7.1",
   "language": "julia",
   "name": "julia-1.7"
  },
  "language_info": {
   "file_extension": ".jl",
   "mimetype": "application/julia",
   "name": "julia",
   "version": "1.7.1"
  }
 },
 "nbformat": 4,
 "nbformat_minor": 5
}
